{
 "cells": [
  {
   "cell_type": "markdown",
   "metadata": {},
   "source": [
    "# 猜数3 (最少猜测次数)\n",
    "\n",
    "上节课我们优化了主持人, 让玩家猜测的体验变得更有好\n",
    "\n",
    "这节课我们就来优化玩家, 让玩家的猜测变得更智能"
   ]
  },
  {
   "cell_type": "code",
   "execution_count": 1,
   "metadata": {},
   "outputs": [],
   "source": [
    "import random\n",
    "\n",
    "class 主持人():\n",
    "    def __init__(self, 最小, 最大):  \n",
    "        print('游戏开始')\n",
    "        self.最小 = 最小\n",
    "        self.最大 = 最大\n",
    "        self.答案 = random.randint(最小, 最大)\n",
    "        self.已结束 = False\n",
    "        print('答案已经确定, 你可以开始猜了')\n",
    "    \n",
    "    def 我猜(self, 数字):\n",
    "        if self.已结束:\n",
    "            return '游戏已经结束'\n",
    "        if 数字 > self.答案:\n",
    "            return '太大了'\n",
    "        if 数字 < self.答案:\n",
    "            return '太小了'\n",
    "        print(f'恭喜玩家猜对了正确答案: {self.答案}')\n",
    "        self.已结束 = True\n",
    "        return '答对了'"
   ]
  },
  {
   "cell_type": "markdown",
   "metadata": {},
   "source": [
    "我们给玩家创建一个最简单的`游戏策略`函数, 即使从游戏的最小, 猜到最大"
   ]
  },
  {
   "cell_type": "code",
   "execution_count": 2,
   "metadata": {},
   "outputs": [],
   "source": [
    "def 猜数策略(主持人1):\n",
    "    for i in range(主持人1.最小, 主持人1.最大 + 1):\n",
    "        结果 = 主持人1.我猜(i)\n",
    "        print(f'我猜: {i}, 结果: {结果}')"
   ]
  },
  {
   "cell_type": "markdown",
   "metadata": {},
   "source": [
    "有了策略, 我们实际测试一下这个策略"
   ]
  },
  {
   "cell_type": "code",
   "execution_count": 3,
   "metadata": {},
   "outputs": [],
   "source": [
    "游戏 = 主持人(1, 10)\n",
    "猜数策略(游戏)"
   ]
  },
  {
   "cell_type": "markdown",
   "metadata": {},
   "source": [
    "这个策略有点纯, 无论猜对了, 还是游戏结束了, 还在继续猜\n",
    "\n",
    "我们修改一下这个策略"
   ]
  },
  {
   "cell_type": "code",
   "execution_count": 4,
   "metadata": {},
   "outputs": [
    {
     "name": "stdout",
     "output_type": "stream",
     "text": [
      "游戏开始\n",
      "答案已经确定, 你可以开始猜了\n",
      "我猜: 1, 结果: 太小了\n",
      "我猜: 2, 结果: 太小了\n",
      "我猜: 3, 结果: 太小了\n",
      "我猜: 4, 结果: 太小了\n",
      "我猜: 5, 结果: 太小了\n",
      "我猜: 6, 结果: 太小了\n",
      "恭喜玩家猜对了正确答案: 7\n",
      "我猜: 7, 结果: 答对了\n"
     ]
    }
   ],
   "source": [
    "def 猜数策略(主持人1):\n",
    "    for i in range(主持人1.最小, 主持人1.最大 + 1):\n",
    "        结果 = 主持人1.我猜(i)\n",
    "        print(f'我猜: {i}, 结果: {结果}')\n",
    "        if 结果 == '答对了':\n",
    "            break\n",
    "        if 结果 == '游戏已经结束':\n",
    "            break\n",
    "        \n",
    "游戏 = 主持人(1, 10)\n",
    "猜数策略(游戏)"
   ]
  },
  {
   "cell_type": "markdown",
   "metadata": {},
   "source": [
    "好了, 但是游戏给我们的`太大了`, `太小了`的提示并没有被利用上\n",
    "\n",
    "那么如何能够使用提示减少猜测的次数呢?"
   ]
  },
  {
   "cell_type": "code",
   "execution_count": 7,
   "metadata": {},
   "outputs": [
    {
     "name": "stdout",
     "output_type": "stream",
     "text": [
      "游戏开始\n",
      "答案已经确定, 你可以开始猜了\n",
      "恭喜玩家猜对了正确答案: 2\n",
      "答对了\n"
     ]
    },
    {
     "data": {
      "text/plain": [
       "2"
      ]
     },
     "execution_count": 7,
     "metadata": {},
     "output_type": "execute_result"
    }
   ],
   "source": [
    "def 猜数策略(主持人1):\n",
    "    答案是 = '?'\n",
    "    结果 = 主持人1.我猜(2)\n",
    "    print(结果)\n",
    "    if 结果 == '答对了':\n",
    "        return 2\n",
    "    if 结果 == '太大了':\n",
    "        主持人1.我猜(1)\n",
    "        return 1\n",
    "    elif 结果 == '太小了':\n",
    "        主持人1.我猜(3)\n",
    "        return 3\n",
    "    else:\n",
    "        return '我错了'\n",
    "\n",
    "猜数策略(主持人(1, 3))"
   ]
  },
  {
   "cell_type": "markdown",
   "metadata": {},
   "source": [
    "多运行几次发现, 上面的`猜数策略`函数总能够在2次以内猜中正确答案(不想多运行几次? 那你可以自己写个循环)\n",
    "\n",
    "### 练习: 对于`主持人(1, 7)`你能写出`猜数策略`函数, 在3次以内一定猜到结果吗?"
   ]
  },
  {
   "cell_type": "code",
   "execution_count": 6,
   "metadata": {},
   "outputs": [
    {
     "name": "stdout",
     "output_type": "stream",
     "text": [
      "游戏开始\n",
      "答案已经确定, 你可以开始猜了\n"
     ]
    }
   ],
   "source": [
    "def 猜数策略(主持人1):\n",
    "    # 把代码写在这里\n",
    "    pass\n",
    "\n",
    "猜数策略(主持人(1, 7))"
   ]
  },
  {
   "cell_type": "markdown",
   "metadata": {},
   "source": [
    "* 一个数字最多1次就一定能猜到结果\n",
    "* 三个数字最多2次就一定能猜到结果\n",
    "* 七个数字最多3次就一定能猜到结果\n",
    "\n",
    "### 思考: 最多猜4次的话, 对应的数字应该是多少? 这有什么规律呢?"
   ]
  },
  {
   "cell_type": "code",
   "execution_count": null,
   "metadata": {},
   "outputs": [],
   "source": []
  }
 ],
 "metadata": {
  "kernelspec": {
   "display_name": "Python 3",
   "language": "python",
   "name": "python3"
  },
  "language_info": {
   "codemirror_mode": {
    "name": "ipython",
    "version": 3
   },
   "file_extension": ".py",
   "mimetype": "text/x-python",
   "name": "python",
   "nbconvert_exporter": "python",
   "pygments_lexer": "ipython3",
   "version": "3.8.5"
  }
 },
 "nbformat": 4,
 "nbformat_minor": 4
}

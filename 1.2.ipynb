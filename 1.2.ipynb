{
 "cells": [
  {
   "cell_type": "markdown",
   "metadata": {},
   "source": [
    "# 公式与函数\n",
    "\n",
    "数学中我们会遇到很多公式, 部分计算起来很复杂, 而计算机正式擅长计算, 那么如何将数学公式转换为程序呢?"
   ]
  },
  {
   "cell_type": "markdown",
   "metadata": {},
   "source": [
    "**圆的面积公式**\n",
    "\n",
    "$S = \\pi r^{2}$\n",
    "\n",
    "**圆的周长公式**\n",
    "\n",
    "$C = 2 \\pi r$\n",
    "\n",
    "**三角形的面积公式**\n",
    "\n",
    "a, b, c 分别为三条边长\n",
    "\n",
    "p = $\\frac{a + b + c}{2}$\n",
    "\n",
    "S = $\\sqrt{p(p-a)(p-b)(p-c)}=4$\n",
    "\n",
    "那么半径是 1.2, 2.2, 3.3 的三个圆形的面积分别是多少呢?"
   ]
  },
  {
   "cell_type": "code",
   "execution_count": 1,
   "metadata": {},
   "outputs": [
    {
     "name": "stdout",
     "output_type": "stream",
     "text": [
      "4.5216\n",
      "15.197600000000003\n",
      "36.2984\n"
     ]
    }
   ],
   "source": [
    "print(3.14 * 1.2**2)\n",
    "print(3.14 * 2.2**2)\n",
    "print(3.14 * 3.4**2)"
   ]
  },
  {
   "cell_type": "markdown",
   "metadata": {},
   "source": [
    "边长是 3,4,5; 4,5,6; 5,6,7 的三个三角形的面积分别是多少?"
   ]
  },
  {
   "cell_type": "code",
   "execution_count": 2,
   "metadata": {},
   "outputs": [
    {
     "name": "stdout",
     "output_type": "stream",
     "text": [
      "6.0\n",
      "9.921567416492215\n",
      "14.696938456699069\n"
     ]
    }
   ],
   "source": [
    "p1 = (3 + 4 + 5) / 2\n",
    "print((p1 * (p1 - 3) * (p1 - 4) * (p1 - 5))**0.5)\n",
    "p2 = (4 + 5 + 6) / 2\n",
    "print((p2 * (p2 - 4) * (p2 - 5) * (p2 - 6))**0.5)\n",
    "p3 = (5 + 6 + 7) / 2\n",
    "print((p3 * (p3 - 5) * (p3 - 6) * (p3 - 7))**0.5)"
   ]
  },
  {
   "cell_type": "markdown",
   "metadata": {},
   "source": [
    "我们看到上面的代码都非常相似, 只有个别的数字/字母是不同的, 其他的都是一样的\n",
    "\n",
    "那么程序能否替代我们写这些重复的部分呢?\n",
    "\n",
    "答案是可以, 我们以圆的面积公式为例子, 定义一个函数对应数学公式"
   ]
  },
  {
   "cell_type": "code",
   "execution_count": 3,
   "metadata": {},
   "outputs": [],
   "source": [
    "# 符号 # 后面的都是注释, 程序不会理会, 是专门给人看的\n",
    "# 函数定义 def是 define的缩写, 意思就是定义\n",
    "def S(r):  # S函数名(公式的等号左边), r函数的参数(公式中的变量)\n",
    "    return 3.14 * r**2  # 公式等号右边"
   ]
  },
  {
   "cell_type": "markdown",
   "metadata": {},
   "source": [
    "运行后我们发现上面的代码什么效果都没有, 因为上面仅仅是定义\n",
    "\n",
    "就像我们定义了圆形的面积公式一样, 那么怎么用定义的这个函数呢?"
   ]
  },
  {
   "cell_type": "code",
   "execution_count": 4,
   "metadata": {},
   "outputs": [
    {
     "data": {
      "text/plain": [
       "4.5216"
      ]
     },
     "execution_count": 4,
     "metadata": {},
     "output_type": "execute_result"
    }
   ],
   "source": [
    "S(1.2)  "
   ]
  },
  {
   "cell_type": "markdown",
   "metadata": {},
   "source": [
    "可以看到\n",
    "\n",
    "`S(1.2)` 的结果和上面的 `3.14 * 1.2**2` 是一样的\n",
    "\n",
    "我们重新计算刚才的问题\n",
    "\n",
    ">那么半径是 1.2, 2.2, 3.3 的三个圆形的面积分别是多少呢?"
   ]
  },
  {
   "cell_type": "code",
   "execution_count": 5,
   "metadata": {},
   "outputs": [
    {
     "name": "stdout",
     "output_type": "stream",
     "text": [
      "4.5216\n",
      "15.197600000000003\n",
      "36.2984\n"
     ]
    }
   ],
   "source": [
    "print(S(1.2))\n",
    "print(S(2.2))\n",
    "print(S(3.4))"
   ]
  },
  {
   "cell_type": "markdown",
   "metadata": {},
   "source": [
    "可以看到, 结果是一模一样的\n",
    "\n",
    "那么三角形的面积要如何定义呢?"
   ]
  },
  {
   "cell_type": "code",
   "execution_count": 6,
   "metadata": {},
   "outputs": [],
   "source": [
    "def S(a, b, c):\n",
    "    p = (a + b + c) /2\n",
    "    return (p * (p - a) * (p - b) * (p - c))**0.5"
   ]
  },
  {
   "cell_type": "markdown",
   "metadata": {},
   "source": [
    "定义好了三角形面积之后我们重新计算刚才的问题\n",
    "\n",
    "> 边长是 3,4,5; 4,5,6; 5,6,7 的三个圆形的面积分别是多少?"
   ]
  },
  {
   "cell_type": "code",
   "execution_count": 7,
   "metadata": {},
   "outputs": [
    {
     "name": "stdout",
     "output_type": "stream",
     "text": [
      "6.0\n",
      "9.921567416492215\n",
      "14.696938456699069\n"
     ]
    }
   ],
   "source": [
    "print(S(3, 4, 5))\n",
    "print(S(4, 5, 6))\n",
    "print(S(5, 6, 7))"
   ]
  },
  {
   "cell_type": "markdown",
   "metadata": {},
   "source": [
    "可以看到, 计算结果是一样的, 但是写起来简化了很多\n",
    "\n",
    "但是有一个问题, 两个函数都是S, 我们怎么知道这个S到底是什么意思呢?\n",
    "\n",
    "**程序是人写的, 也是给人看的**\n",
    "\n",
    "我们需要下一次看到这些程序的时候, 能够很容易的理解这些程序是做什么的\n",
    "\n",
    "那么要如何做到这点呢?\n",
    "\n",
    "* **命名要有意义**\n",
    "* **多写注释**"
   ]
  },
  {
   "cell_type": "code",
   "execution_count": 8,
   "metadata": {},
   "outputs": [],
   "source": [
    "def 圆的面积(半径):\n",
    "    return 3.14 * 半径**2\n",
    "\n",
    "def 三角形的面积(a, b, c):\n",
    "    \"\"\"a, b, c分别是三角形的三个边的长度\"\"\"  # 这是函数的注释的写法\n",
    "    p = (a + b + c) /2\n",
    "    return (p * (p - a) * (p - b) * (p - c))**0.5"
   ]
  },
  {
   "cell_type": "code",
   "execution_count": 9,
   "metadata": {},
   "outputs": [
    {
     "name": "stdout",
     "output_type": "stream",
     "text": [
      "4.5216\n",
      "15.197600000000003\n",
      "36.2984\n",
      "6.0\n",
      "9.921567416492215\n",
      "14.696938456699069\n"
     ]
    }
   ],
   "source": [
    "print(圆的面积(1.2))\n",
    "print(圆的面积(2.2))\n",
    "print(圆的面积(3.4))\n",
    "\n",
    "print(三角形的面积(3, 4, 5))\n",
    "print(三角形的面积(4, 5, 6))\n",
    "print(三角形的面积(5, 6, 7))"
   ]
  },
  {
   "cell_type": "markdown",
   "metadata": {},
   "source": [
    "可以看到, 虽然命名和注释有的变化, 但是使用起来跟之前是一样的\n",
    "\n",
    "并且看到函数的定义和注释后, 很容易就知道这个函数是做什么的, 如何使用\n",
    "\n",
    "### 练习：计算半径分别为 2, 4, 6 的圆的周长"
   ]
  },
  {
   "cell_type": "code",
   "execution_count": null,
   "metadata": {},
   "outputs": [],
   "source": []
  }
 ],
 "metadata": {
  "kernelspec": {
   "display_name": "Python 3",
   "language": "python",
   "name": "python3"
  },
  "language_info": {
   "codemirror_mode": {
    "name": "ipython",
    "version": 3
   },
   "file_extension": ".py",
   "mimetype": "text/x-python",
   "name": "python",
   "nbconvert_exporter": "python",
   "pygments_lexer": "ipython3",
   "version": "3.8.5"
  }
 },
 "nbformat": 4,
 "nbformat_minor": 4
}

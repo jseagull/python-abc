{
 "cells": [
  {
   "cell_type": "markdown",
   "metadata": {},
   "source": [
    "# 猜数1 (循环)"
   ]
  },
  {
   "cell_type": "markdown",
   "metadata": {},
   "source": [
    "从这节课开始, 我们一起实现一个猜数的小游戏\n",
    "\n",
    "定义一个简单的猜数函数"
   ]
  },
  {
   "cell_type": "code",
   "execution_count": 1,
   "metadata": {},
   "outputs": [
    {
     "data": {
      "text/plain": [
       "('答错了', '答对了', '答错了')"
      ]
     },
     "execution_count": 1,
     "metadata": {},
     "output_type": "execute_result"
    }
   ],
   "source": [
    "def 猜数(数字):\n",
    "    答案 = 2\n",
    "    if 数字 == 答案:\n",
    "       return '答对了'\n",
    "    return '答错了'\n",
    "\n",
    "猜数(1), 猜数(2), 猜数(3)"
   ]
  },
  {
   "cell_type": "markdown",
   "metadata": {},
   "source": [
    "答案是固定的话，那么每次都 `猜数(2)` 就一定会正确\n",
    "\n",
    "所以我们需要引入一个随机函数`random.randint`\n",
    "\n",
    "### 我不知道`random.randint`怎么用, 参数是什么意思, 怎么办?\n",
    "\n",
    "* 多试验几次\n",
    "* 使用`help`函数\n",
    "* 使用万能的搜索引擎"
   ]
  },
  {
   "cell_type": "code",
   "execution_count": 2,
   "metadata": {},
   "outputs": [
    {
     "data": {
      "text/plain": [
       "('答错了', '答错了', '答错了')"
      ]
     },
     "execution_count": 2,
     "metadata": {},
     "output_type": "execute_result"
    }
   ],
   "source": [
    "import random\n",
    "\n",
    "def 猜数(数字):\n",
    "    答案 = random.randint(1, 10)\n",
    "    if 数字 == 答案:\n",
    "       return '答对了'\n",
    "    return '答错了'\n",
    "\n",
    "\n",
    "猜数(1), 猜数(2), 猜数(3)"
   ]
  },
  {
   "cell_type": "markdown",
   "metadata": {},
   "source": [
    "这样猜测比较麻烦, 引入一个让用户手动输入的函数`input`\n",
    "\n",
    "注: `int`函数可以自己取了解什么意思, 如何使用"
   ]
  },
  {
   "cell_type": "code",
   "execution_count": 3,
   "metadata": {},
   "outputs": [
    {
     "name": "stdout",
     "output_type": "stream",
     "text": [
      "这里\n",
      "请输入一个数字:5\n",
      "^.^\n"
     ]
    },
    {
     "data": {
      "text/plain": [
       "'答错了'"
      ]
     },
     "execution_count": 3,
     "metadata": {},
     "output_type": "execute_result"
    }
   ],
   "source": [
    "import random\n",
    "\n",
    "def 猜数():\n",
    "    答案 = random.randint(1, 10)\n",
    "    print('这里')\n",
    "    数字 = int(input('请输入一个数字:'))\n",
    "    print('^.^')\n",
    "    if 数字 == 答案:\n",
    "       return '答对了'\n",
    "    return '答错了'\n",
    "\n",
    "猜数()"
   ]
  },
  {
   "cell_type": "markdown",
   "metadata": {},
   "source": [
    "但是返回了答错了我们也不知道接下来怎么猜\n",
    "\n",
    "使用上节课学到的分支语句`if/elif/else`可以提示玩家猜测的是大了还是小了\n",
    "\n",
    "让游戏变得更加友好"
   ]
  },
  {
   "cell_type": "code",
   "execution_count": 4,
   "metadata": {},
   "outputs": [
    {
     "name": "stdout",
     "output_type": "stream",
     "text": [
      "请输入一个数字:5\n"
     ]
    },
    {
     "data": {
      "text/plain": [
       "'太小了'"
      ]
     },
     "execution_count": 4,
     "metadata": {},
     "output_type": "execute_result"
    }
   ],
   "source": [
    "import random\n",
    "\n",
    "def 猜数():\n",
    "    答案 = random.randint(1, 10)\n",
    "    数字 = int(input('请输入一个数字:'))\n",
    "    if 数字 > 答案:\n",
    "       return '太大了'\n",
    "    elif 数字 < 答案:\n",
    "       return '太小了'\n",
    "    else: \n",
    "       return '答对了'\n",
    "\n",
    "猜数()"
   ]
  },
  {
   "cell_type": "markdown",
   "metadata": {},
   "source": [
    "虽然我们告诉玩家是太大了还是太小了, 但是并没有给玩家下一次猜测的机会\n",
    "\n",
    "那么如果给玩家多次猜测的机会呢?\n",
    "\n",
    "这就要引入编程中循环这个概念"
   ]
  },
  {
   "cell_type": "code",
   "execution_count": 5,
   "metadata": {},
   "outputs": [
    {
     "name": "stdout",
     "output_type": "stream",
     "text": [
      "循环头部\n",
      "请输入一个数字:5\n",
      "太小了\n",
      "循环底部\n",
      "循环头部\n",
      "请输入一个数字:7\n",
      "太小了\n",
      "循环底部\n",
      "循环头部\n",
      "请输入一个数字:9\n",
      "太大了\n",
      "循环底部\n",
      "循环头部\n",
      "请输入一个数字:8\n",
      "答对了\n"
     ]
    },
    {
     "data": {
      "text/plain": [
       "'游戏结束'"
      ]
     },
     "execution_count": 5,
     "metadata": {},
     "output_type": "execute_result"
    }
   ],
   "source": [
    "import random\n",
    "\n",
    "def 猜数():\n",
    "    答案 = random.randint(1, 10)\n",
    "    while True:  # 永远循环下面的内容\n",
    "        print('循环头部')\n",
    "        数字 = int(input('请输入一个数字:'))\n",
    "        if 数字 > 答案:\n",
    "           print('太大了')\n",
    "        elif 数字 < 答案:\n",
    "           print('太小了')\n",
    "        else: \n",
    "           print('答对了')\n",
    "           break # 离开循环区域\n",
    "        print('循环底部')\n",
    "    return '游戏结束'\n",
    "\n",
    "猜数()"
   ]
  },
  {
   "cell_type": "markdown",
   "metadata": {},
   "source": [
    "上面增加了 `print('循环头部')`和`print('循环底部')`来帮助理解循环执行的过程\n",
    "\n",
    "下面我们将`猜数`函数分拆成两个函数, 让各自的函数更短, 负责各自的职能"
   ]
  },
  {
   "cell_type": "code",
   "execution_count": 6,
   "metadata": {},
   "outputs": [
    {
     "name": "stdout",
     "output_type": "stream",
     "text": [
      "请输入一个数字:5\n",
      "太小了\n",
      "请输入一个数字:7\n",
      "太小了\n",
      "请输入一个数字:9\n",
      "太大了\n",
      "请输入一个数字:8\n",
      "答对了\n"
     ]
    }
   ],
   "source": [
    "import random\n",
    "\n",
    "def 猜数(答案):\n",
    "    数字 = int(input('请输入一个数字:'))\n",
    "    if 数字 > 答案:\n",
    "       return '太大了'\n",
    "    elif 数字 < 答案:\n",
    "       return '太小了'\n",
    "    else: \n",
    "       return '答对了'\n",
    "\n",
    "def 猜对为止():\n",
    "    答案 = random.randint(1, 10)\n",
    "    while True:  # 永远循环里面的内容\n",
    "        结果 = 猜数(答案)\n",
    "        print(结果)\n",
    "        if 结果 == '答对了':\n",
    "            break # 离开循环区域\n",
    "\n",
    "猜对为止()"
   ]
  },
  {
   "cell_type": "markdown",
   "metadata": {},
   "source": [
    "### 练习: 制作一个猜小写字母的游戏\n",
    "\n",
    "提示: `a < b < c < .... < x < y < z`\n",
    "\n",
    "提示2: `random.choice('ab')`"
   ]
  },
  {
   "cell_type": "code",
   "execution_count": null,
   "metadata": {},
   "outputs": [],
   "source": []
  }
 ],
 "metadata": {
  "kernelspec": {
   "display_name": "Python 3",
   "language": "python",
   "name": "python3"
  },
  "language_info": {
   "codemirror_mode": {
    "name": "ipython",
    "version": 3
   },
   "file_extension": ".py",
   "mimetype": "text/x-python",
   "name": "python",
   "nbconvert_exporter": "python",
   "pygments_lexer": "ipython3",
   "version": "3.6.9"
  }
 },
 "nbformat": 4,
 "nbformat_minor": 4
}

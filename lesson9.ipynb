{
 "cells": [
  {
   "cell_type": "markdown",
   "metadata": {},
   "source": [
    "# 猜数4 (更多测试)\n",
    "\n",
    "上一课我们用自动测试方法验证了结果是否正确, 但是仅仅验证一个返回值未必能确保实现是正确的"
   ]
  },
  {
   "cell_type": "code",
   "execution_count": 2,
   "metadata": {},
   "outputs": [
    {
     "data": {
      "text/plain": [
       "'成功'"
      ]
     },
     "execution_count": 2,
     "metadata": {},
     "output_type": "execute_result"
    }
   ],
   "source": [
    "import random\n",
    "import math\n",
    "\n",
    "\n",
    "class 猜数():\n",
    "    def __init__(self, 最小=1, 最大=10, 答案=0):\n",
    "        if 答案:\n",
    "            self.答案 = 答案\n",
    "        else:\n",
    "            self.答案 = random.randint(最小, 最大)\n",
    "        self.猜过 = 0\n",
    "        self.最大 = 最大\n",
    "        self.最小 = 最小\n",
    "        总数 = 最大 - 最小 + 1\n",
    "        self.最多猜几次 = math.ceil(math.log2(总数 + 1))\n",
    "    \n",
    "    def 猜一次(self, 数字):\n",
    "        self.猜过 = self.猜过 + 1\n",
    "        if self.猜过 > self.最多猜几次:\n",
    "            return '你猜的次数太多了'\n",
    "        if 数字 > self.答案:\n",
    "            return '太大了'\n",
    "        elif 数字 < self.答案:\n",
    "            return '太小了'\n",
    "        else:\n",
    "            print(f'第{self.猜过}次猜测答对了')\n",
    "            return '答对了'\n",
    "        \n",
    "        \n",
    "\n",
    "def 测试猜数(猜数游戏):\n",
    "    第一局 = 猜数游戏()\n",
    "    if 第一局.最小 != 1:\n",
    "        return '失败'\n",
    "    if 第一局.最大 != 10:\n",
    "        return '失败'\n",
    "    if 第一局.答案 < 1 or 第一局.答案 > 10:\n",
    "        return '失败'\n",
    "    if 第一局.最多猜几次 != 4:\n",
    "        return '失败'\n",
    "    \n",
    "    return '成功'\n",
    "\n",
    "\n",
    "测试猜数(猜数)\n",
    "    "
   ]
  },
  {
   "cell_type": "raw",
   "metadata": {},
   "source": [
    "上面测试了猜数构造函数(猜数.__init__)的默认值, 还可以测试其他值"
   ]
  },
  {
   "cell_type": "code",
   "execution_count": 10,
   "metadata": {},
   "outputs": [
    {
     "data": {
      "text/plain": [
       "'成功'"
      ]
     },
     "execution_count": 10,
     "metadata": {},
     "output_type": "execute_result"
    }
   ],
   "source": [
    "def 测试猜数(猜数游戏):\n",
    "    # 测试 默认 构造函数\n",
    "    第一局 = 猜数游戏()\n",
    "    if 第一局.最小 != 1:\n",
    "        return '失败'\n",
    "    if 第一局.最大 != 10:\n",
    "        return '失败'\n",
    "    if 第一局.答案 < 1 or 第一局.答案 > 10:\n",
    "        return '失败'\n",
    "    if 第一局.最多猜几次 != 4:\n",
    "        return '失败'\n",
    "    \n",
    "    # 测试 传参数的构造函数\n",
    "    第二局 = 猜数游戏(1, 100, 9)\n",
    "    if 第二局.最小 != 1:\n",
    "        return '失败'\n",
    "    if 第二局.最大 != 100:\n",
    "        return '失败'\n",
    "    if 第二局.答案 != 9:\n",
    "        return '失败'\n",
    "    if 第二局.最多猜几次 != 7:\n",
    "        return '失败'\n",
    "    \n",
    "    # 测试 最多猜几次\n",
    "    第三局 = 猜数游戏(1, 1)\n",
    "    if 第三局.最多猜几次 != 1:\n",
    "        return '失败'\n",
    "    第三局 = 猜数游戏(1, 3)\n",
    "    if 第三局.最多猜几次 != 2:\n",
    "        return '失败'\n",
    "    第三局 = 猜数游戏(1, 7)\n",
    "    if 第三局.最多猜几次 != 3:\n",
    "        return '失败'\n",
    "    \n",
    "    return '成功'\n",
    "\n",
    "\n",
    "测试猜数(猜数)"
   ]
  },
  {
   "cell_type": "markdown",
   "metadata": {},
   "source": [
    "### 练习 设计一个测试函数, 测试 猜一次函数是否正确"
   ]
  },
  {
   "cell_type": "code",
   "execution_count": 7,
   "metadata": {},
   "outputs": [
    {
     "data": {
      "text/plain": [
       "False"
      ]
     },
     "execution_count": 7,
     "metadata": {},
     "output_type": "execute_result"
    }
   ],
   "source": [
    "def 测试猜一次(猜数游戏):\n",
    "    # TODO 练习的所有代码都写在这里\n",
    "    \n",
    "    pass\n",
    "\n",
    "\n",
    "测试猜一次(猜数) == '成功'"
   ]
  }
 ],
 "metadata": {
  "kernelspec": {
   "display_name": "Python 3",
   "language": "python",
   "name": "python3"
  },
  "language_info": {
   "codemirror_mode": {
    "name": "ipython",
    "version": 3
   },
   "file_extension": ".py",
   "mimetype": "text/x-python",
   "name": "python",
   "nbconvert_exporter": "python",
   "pygments_lexer": "ipython3",
   "version": "3.6.9"
  }
 },
 "nbformat": 4,
 "nbformat_minor": 4
}

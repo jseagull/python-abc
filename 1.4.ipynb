{
 "cells": [
  {
   "cell_type": "markdown",
   "metadata": {},
   "source": [
    "# 类\n",
    "\n",
    "前几节课程, 我们定义圆形的的面积函数, 周长函数, 有通过半径算得, 直径算得\n",
    "\n",
    "其实一个圆, 如果半径固定了, 面积周长也就都固定了\n",
    "\n",
    "不同的圆, 其实就是半径不同而已, 那么如何将这种关系用程序表达呢?\n",
    "\n",
    "这就要设计编程中的`类`"
   ]
  },
  {
   "cell_type": "code",
   "execution_count": 1,
   "metadata": {},
   "outputs": [],
   "source": [
    "class 圆():\n",
    "    # 类中的函数的第一个参数 self 是会被默认传入的, 调用的时候不需要手动传入, 但是定义的时候要预留着\n",
    "    # __init__ 是类的 构造函数 当调用 圆() 的时候会被执行\n",
    "    # 虽然构造函数没有return, 但是默认会返回一个类的 实例\n",
    "    def __init__(self, 半径): \n",
    "        print('我被构造了')\n",
    "        self.半径 = 半径\n",
    "        print(f'我的半径是: {self.半径}')\n",
    "        \n",
    "    def 面积(self):\n",
    "        return 3.14 * self.半径**2\n",
    "    \n",
    "    def 周长(self):\n",
    "        return 2 * 3.14 * self.半径"
   ]
  },
  {
   "cell_type": "markdown",
   "metadata": {},
   "source": [
    "上面我们定义了一个名字叫`圆`的`类`, 那么怎么用呢?"
   ]
  },
  {
   "cell_type": "code",
   "execution_count": 2,
   "metadata": {},
   "outputs": [
    {
     "name": "stdout",
     "output_type": "stream",
     "text": [
      "我被构造了\n",
      "我的半径是: 1\n",
      "<__main__.圆 object at 0x7f86206ba3a0>\n"
     ]
    }
   ],
   "source": [
    "print(圆(1))"
   ]
  },
  {
   "cell_type": "markdown",
   "metadata": {},
   "source": [
    "可以看到执行`圆(1)`时, 实际上是执行了`圆`的`__init__`函数, 返回的圆的实例是个很奇怪的东西\n",
    "\n",
    "那`圆(1)`这个类的实例究竟有什么用呢?"
   ]
  },
  {
   "cell_type": "code",
   "execution_count": 3,
   "metadata": {},
   "outputs": [
    {
     "name": "stdout",
     "output_type": "stream",
     "text": [
      "我被构造了\n",
      "我的半径是: 1\n",
      "1 6.28 3.14\n"
     ]
    }
   ],
   "source": [
    "半径为1的圆 = 圆(1)\n",
    "print(半径为1的圆.半径, 半径为1的圆.周长(), 半径为1的圆.面积())"
   ]
  },
  {
   "cell_type": "markdown",
   "metadata": {},
   "source": [
    "可以看到, 定义圆的时候, 那是一个概念中的圆, 半径是不确定的\n",
    "\n",
    "二调用`圆(1)`之后, 我们得到了一个具体的圆, 它的半径已经确定, 可以调用它的`周长`函数和`面积`函数计算它的周长\n",
    "\n",
    "那么这有什么用呢?\n",
    "\n",
    "我们再来计算一下之前的问题, 半径是 1.2, 2.2, 3.3 的三个圆形的周长和面积分别是多少呢?"
   ]
  },
  {
   "cell_type": "code",
   "execution_count": 4,
   "metadata": {},
   "outputs": [
    {
     "name": "stdout",
     "output_type": "stream",
     "text": [
      "我被构造了\n",
      "我的半径是: 1.2\n",
      "我被构造了\n",
      "我的半径是: 1.2\n",
      "7.536 4.5216\n",
      "我被构造了\n",
      "我的半径是: 2.2\n",
      "我被构造了\n",
      "我的半径是: 2.2\n",
      "13.816000000000003 15.197600000000003\n",
      "我被构造了\n",
      "我的半径是: 3.3\n",
      "我被构造了\n",
      "我的半径是: 3.3\n",
      "20.724 34.194599999999994\n"
     ]
    }
   ],
   "source": [
    "print(圆(1.2).周长(), 圆(1.2).面积())\n",
    "print(圆(2.2).周长(), 圆(2.2).面积())\n",
    "print(圆(3.3).周长(), 圆(3.3).面积())"
   ]
  },
  {
   "cell_type": "markdown",
   "metadata": {},
   "source": [
    "发现圆被构造了6次, 其实构造3次就可以了, 我们修改一下"
   ]
  },
  {
   "cell_type": "code",
   "execution_count": 5,
   "metadata": {},
   "outputs": [
    {
     "name": "stdout",
     "output_type": "stream",
     "text": [
      "我被构造了\n",
      "我的半径是: 1.2\n",
      "我被构造了\n",
      "我的半径是: 2.2\n",
      "我被构造了\n",
      "我的半径是: 3.3\n",
      "7.536 4.5216\n",
      "13.816000000000003 15.197600000000003\n",
      "20.724 34.194599999999994\n"
     ]
    }
   ],
   "source": [
    "圆1 = 圆(1.2)\n",
    "圆2 = 圆(2.2)\n",
    "圆3 = 圆(3.3)\n",
    "print(圆1.周长(), 圆1.面积())\n",
    "print(圆2.周长(), 圆2.面积())\n",
    "print(圆3.周长(), 圆3.面积())"
   ]
  },
  {
   "cell_type": "markdown",
   "metadata": {},
   "source": [
    "### 练习: 定义一个三角形的类, 计算边长是 3,4,5; 4,5,6; 5,6,7 的三个三角形的周长和面积"
   ]
  },
  {
   "cell_type": "code",
   "execution_count": null,
   "metadata": {},
   "outputs": [],
   "source": []
  }
 ],
 "metadata": {
  "kernelspec": {
   "display_name": "Python 3",
   "language": "python",
   "name": "python3"
  },
  "language_info": {
   "codemirror_mode": {
    "name": "ipython",
    "version": 3
   },
   "file_extension": ".py",
   "mimetype": "text/x-python",
   "name": "python",
   "nbconvert_exporter": "python",
   "pygments_lexer": "ipython3",
   "version": "3.8.5"
  }
 },
 "nbformat": 4,
 "nbformat_minor": 4
}

{
 "cells": [
  {
   "cell_type": "markdown",
   "metadata": {},
   "source": [
    "# 猜数3 (最少猜测次数)\n",
    "\n",
    "对于一局猜数, 我们从1猜到10是一定能够猜到正确结果的, 证明如下"
   ]
  },
  {
   "cell_type": "code",
   "execution_count": 1,
   "metadata": {},
   "outputs": [
    {
     "name": "stdout",
     "output_type": "stream",
     "text": [
      "正确答案: 1\n",
      "第1次猜测\n",
      "我猜测1, 结果:答对了\n",
      "第2次猜测\n",
      "我猜测2, 结果:太大了\n",
      "第3次猜测\n",
      "我猜测3, 结果:太大了\n",
      "第4次猜测\n",
      "我猜测4, 结果:太大了\n",
      "第5次猜测\n",
      "我猜测5, 结果:太大了\n",
      "第6次猜测\n",
      "我猜测6, 结果:太大了\n",
      "第7次猜测\n",
      "我猜测7, 结果:太大了\n",
      "第8次猜测\n",
      "我猜测8, 结果:太大了\n",
      "第9次猜测\n",
      "我猜测9, 结果:太大了\n",
      "第10次猜测\n",
      "我猜测10, 结果:太大了\n"
     ]
    }
   ],
   "source": [
    "import random\n",
    "\n",
    "class 猜数():\n",
    "    def __init__(self, 最多猜几次=5):  # 默认值是5, 表示  猜数() 相当于 猜数(5)\n",
    "        self.答案 = random.randint(1, 10)\n",
    "        self.猜过 = 0\n",
    "        self.最多猜几次 = 最多猜几次\n",
    "    \n",
    "    def 我猜(self, 数字):\n",
    "        self.猜过 = self.猜过 + 1\n",
    "        if self.猜过 > self.最多猜几次:\n",
    "            return '你猜的次数太多了'\n",
    "        print(f'第{self.猜过}次猜测')\n",
    "        if 数字 > self.答案:\n",
    "            return '太大了'\n",
    "        elif 数字 < self.答案:\n",
    "            return '太小了'\n",
    "        else: \n",
    "            return '答对了'\n",
    "\n",
    "猜数游戏 = 猜数(10)\n",
    "\n",
    "print('正确答案:', 猜数游戏.答案)\n",
    "for i in range(1, 11):\n",
    "    print(f'我猜测{i}, 结果:{猜数游戏.我猜(i)}')"
   ]
  },
  {
   "cell_type": "markdown",
   "metadata": {},
   "source": [
    "游戏给我们的`太大了`, `太小了`的提示并没有被利用上\n",
    "\n",
    "那么如何能够使用提示减少猜测的次数呢?\n",
    "\n",
    "我们先构造一个可以指定最小值, 最大值的猜数游戏"
   ]
  },
  {
   "cell_type": "code",
   "execution_count": 2,
   "metadata": {},
   "outputs": [
    {
     "name": "stdout",
     "output_type": "stream",
     "text": [
      "第1次猜测\n",
      "第2次猜测\n"
     ]
    },
    {
     "data": {
      "text/plain": [
       "(1, '答对了', '太大了', '你猜的次数太多了')"
      ]
     },
     "execution_count": 2,
     "metadata": {},
     "output_type": "execute_result"
    }
   ],
   "source": [
    "import random\n",
    "\n",
    "class 猜数():\n",
    "    def __init__(self, 最小=1, 最大=10, 最多猜几次=3):\n",
    "        self.答案 = random.randint(最小, 最大)\n",
    "        self.猜过 = 0\n",
    "        self.最多猜几次 = 最多猜几次\n",
    "    \n",
    "    def 我猜(self, 数字):\n",
    "        self.猜过 = self.猜过 + 1\n",
    "        if self.猜过 > self.最多猜几次:\n",
    "            return '你猜的次数太多了'\n",
    "        print(f'第{self.猜过}次猜测')\n",
    "        if 数字 > self.答案:\n",
    "            return '太大了'\n",
    "        elif 数字 < self.答案:\n",
    "            return '太小了'\n",
    "        else: \n",
    "            return '答对了'\n",
    "    \n",
    "猜数游戏 = 猜数(1, 3, 2)\n",
    "猜数游戏.答案, 猜数游戏.我猜(1), 猜数游戏.我猜(2), 猜数游戏.我猜(3)"
   ]
  },
  {
   "cell_type": "markdown",
   "metadata": {},
   "source": [
    "`猜数游戏 = 猜数(1, 3)` 就相当于 `猜数游戏 = 猜数(1, 3, 3)`\n",
    "\n",
    "这一局游戏最多猜测3次就一定能够猜出答案, 那么能不能减少猜测次数能?\n",
    "\n",
    "我们定义一个`猜数策略`函数去猜猜看"
   ]
  },
  {
   "cell_type": "code",
   "execution_count": 3,
   "metadata": {},
   "outputs": [
    {
     "name": "stdout",
     "output_type": "stream",
     "text": [
      "第1次猜测\n",
      "答对了\n"
     ]
    },
    {
     "data": {
      "text/plain": [
       "2"
      ]
     },
     "execution_count": 3,
     "metadata": {},
     "output_type": "execute_result"
    }
   ],
   "source": [
    "def 猜数策略(一局游戏):\n",
    "    答案是 = '?'\n",
    "    结果 = 一局游戏.我猜(2)\n",
    "    print(结果)\n",
    "    if 结果 == '答对了':\n",
    "        return 2\n",
    "    if 结果 == '太大了':\n",
    "        print(一局游戏.我猜(1))\n",
    "        return 1\n",
    "    elif 结果 == '太小了':\n",
    "        print(一局游戏.我猜(3))\n",
    "        return 3\n",
    "    else:\n",
    "        return '出错了'\n",
    "    \n",
    "猜数策略(猜数(1, 3, 2))"
   ]
  },
  {
   "cell_type": "markdown",
   "metadata": {},
   "source": [
    "多运行几次发现, 上面的`猜数策略`函数总能够在2次以内猜中正确答案\n",
    "\n",
    "### 练习: 对于`猜数(1, 7, 3)`你能写出`猜数策略`函数, 在3次以内一定猜到结果吗?"
   ]
  },
  {
   "cell_type": "code",
   "execution_count": 4,
   "metadata": {},
   "outputs": [],
   "source": [
    "def 猜数策略(一局游戏):\n",
    "    # 把代码写在这里\n",
    "    pass\n",
    "\n",
    "猜数策略(猜数(1, 7, 3))"
   ]
  },
  {
   "cell_type": "markdown",
   "metadata": {},
   "source": [
    "* 一个数字最多1次就能猜到结果\n",
    "* 三个数字最多2次就能猜到结果\n",
    "* 七个数字最多3次就能猜到结果\n",
    "\n",
    "### 思考: 最多猜4次的话, 对应的数字应该是多少? 这有什么规律呢?"
   ]
  },
  {
   "cell_type": "code",
   "execution_count": null,
   "metadata": {},
   "outputs": [],
   "source": []
  }
 ],
 "metadata": {
  "kernelspec": {
   "display_name": "Python 3",
   "language": "python",
   "name": "python3"
  },
  "language_info": {
   "codemirror_mode": {
    "name": "ipython",
    "version": 3
   },
   "file_extension": ".py",
   "mimetype": "text/x-python",
   "name": "python",
   "nbconvert_exporter": "python",
   "pygments_lexer": "ipython3",
   "version": "3.6.9"
  }
 },
 "nbformat": 4,
 "nbformat_minor": 4
}

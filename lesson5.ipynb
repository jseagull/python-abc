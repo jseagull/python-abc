{
 "cells": [
  {
   "cell_type": "markdown",
   "metadata": {},
   "source": [
    "# 猜数2 (类 )"
   ]
  },
  {
   "cell_type": "markdown",
   "metadata": {},
   "source": [
    "上节课我们定义了一个猜数游戏, 这个游戏当中我们定义一个答案\n",
    "\n",
    "将 函数和相关的数据 集合在一起, 就构成了编程当中的类`class`\n",
    "\n",
    "下面将之前的猜数游戏改造成使用类来实现"
   ]
  },
  {
   "cell_type": "code",
   "execution_count": 1,
   "metadata": {},
   "outputs": [],
   "source": [
    "import random\n",
    "\n",
    "class 猜数():  # 类的名称\n",
    "    # 类中的函数的第一个参数 self 是会被默认传入的, 调用的时候不需要手动传入, 但是定义的时候要预留着\n",
    "    def __init__(self):  # 类的构造函数 当调用 猜数() 的时候会被执行\n",
    "        print('猜数.__init__被执行了!')\n",
    "        self.答案 = random.randint(1, 10)  # 将一些数据存储在类的属性当中, 方便以后使用\n",
    "        print(f'答案目前确定了,就是: {self.答案}')\n",
    "    \n",
    "    # 调用这个函数的时候不需要理会self这个参数, 使用的时候只要用 我猜(8) 就可以\n",
    "    def 我猜(self, 数字):  # 相对于普通函数, 多了一个self, 在函数内部用来调用类的属性和其他函数\n",
    "        if 数字 > self.答案:\n",
    "            return '太大了'\n",
    "        elif 数字 < self.答案:\n",
    "            return '太小了'\n",
    "        else: \n",
    "            return '答对了'"
   ]
  },
  {
   "cell_type": "markdown",
   "metadata": {},
   "source": [
    "执行上面的代码之后, 发现什么也没有发生.\n",
    "\n",
    "这是因为我们只是定义了一个类, 就像我们之定义了一个函数一样, 单纯的定义并不会有任何事情发生\n",
    "\n",
    "下面我们执行一下这个类"
   ]
  },
  {
   "cell_type": "code",
   "execution_count": 2,
   "metadata": {},
   "outputs": [
    {
     "name": "stdout",
     "output_type": "stream",
     "text": [
      "猜数.__init__被执行了!\n",
      "答案目前确定了,就是: 4\n"
     ]
    }
   ],
   "source": [
    "第一局猜数游戏 = 猜数()"
   ]
  },
  {
   "cell_type": "markdown",
   "metadata": {},
   "source": [
    "可以看到, 类执行之后, 会调用它的构造函数`__init__`\n",
    "\n",
    "那再调用一下它的其他函数试试"
   ]
  },
  {
   "cell_type": "code",
   "execution_count": 3,
   "metadata": {},
   "outputs": [
    {
     "data": {
      "text/plain": [
       "('太小了', '太大了', '太大了')"
      ]
     },
     "execution_count": 3,
     "metadata": {},
     "output_type": "execute_result"
    }
   ],
   "source": [
    "第一局猜数游戏.我猜(3), 第一局猜数游戏.我猜(6), 第一局猜数游戏.我猜(9)"
   ]
  },
  {
   "cell_type": "markdown",
   "metadata": {},
   "source": [
    "可以看到, 调用猜数类后, 答案就固定下来了, 之后可以反复猜测\n",
    "\n",
    "如果想要不同的答案, 只要再调用猜数类即可"
   ]
  },
  {
   "cell_type": "code",
   "execution_count": 4,
   "metadata": {},
   "outputs": [
    {
     "name": "stdout",
     "output_type": "stream",
     "text": [
      "猜数.__init__被执行了!\n",
      "答案目前确定了,就是: 5\n"
     ]
    },
    {
     "data": {
      "text/plain": [
       "('太小了', '太大了', '太大了')"
      ]
     },
     "execution_count": 4,
     "metadata": {},
     "output_type": "execute_result"
    }
   ],
   "source": [
    "第二局猜数游戏 = 猜数()\n",
    "第二局猜数游戏.我猜(3), 第二局猜数游戏.我猜(6), 第二局猜数游戏.我猜(9)"
   ]
  },
  {
   "cell_type": "markdown",
   "metadata": {},
   "source": [
    "可以看到使用类可以方便地构造多局游戏给不同用户或者同一个用户多次使用\n",
    "\n",
    "除了这点, 使用类还有哪些更方便的地方呢?\n",
    "\n",
    "下面我们就利用类的属性, 来记录玩家猜过几次试试"
   ]
  },
  {
   "cell_type": "code",
   "execution_count": 5,
   "metadata": {},
   "outputs": [
    {
     "name": "stdout",
     "output_type": "stream",
     "text": [
      "第1次猜测\n",
      "第2次猜测\n",
      "第3次猜测\n"
     ]
    },
    {
     "data": {
      "text/plain": [
       "(9, '太小了', '太小了', '答对了')"
      ]
     },
     "execution_count": 5,
     "metadata": {},
     "output_type": "execute_result"
    }
   ],
   "source": [
    "import random\n",
    "\n",
    "class 猜数():\n",
    "    def __init__(self):\n",
    "        self.答案 = random.randint(1, 10)\n",
    "        self.猜过 = 0\n",
    "    \n",
    "    def 我猜(self, 数字):\n",
    "        self.猜过 = self.猜过 + 1\n",
    "        print(f'第{self.猜过}次猜测')\n",
    "        if 数字 > self.答案:\n",
    "            return '太大了'\n",
    "        elif 数字 < self.答案:\n",
    "            return '太小了'\n",
    "        else: \n",
    "            return '答对了'\n",
    "    \n",
    "第一局猜数游戏 = 猜数()\n",
    "第一局猜数游戏.答案, 第一局猜数游戏.我猜(3), 第一局猜数游戏.我猜(6), 第一局猜数游戏.我猜(9)"
   ]
  },
  {
   "cell_type": "markdown",
   "metadata": {},
   "source": [
    "可以看到我们利用 猜过 这个属性记录了玩家当前猜过的次数\n",
    "\n",
    "我们知道猜数 1~10, 猜测10次是一定能猜到正确答案的, 那么我们怎么限制玩家只能猜测指定的次数呢?"
   ]
  },
  {
   "cell_type": "code",
   "execution_count": 6,
   "metadata": {},
   "outputs": [
    {
     "name": "stdout",
     "output_type": "stream",
     "text": [
      "第1次猜测\n",
      "第2次猜测\n"
     ]
    },
    {
     "data": {
      "text/plain": [
       "(3, '答对了', '太大了', '你猜的次数太多了')"
      ]
     },
     "execution_count": 6,
     "metadata": {},
     "output_type": "execute_result"
    }
   ],
   "source": [
    "import random\n",
    "\n",
    "class 猜数():\n",
    "    def __init__(self, 最多猜几次=5):  # 默认值是5, 表示  猜数() 相当于 猜数(5)\n",
    "        self.答案 = random.randint(1, 10)\n",
    "        self.猜过 = 0\n",
    "        self.最多猜几次 = 最多猜几次\n",
    "    \n",
    "    def 我猜(self, 数字):\n",
    "        self.猜过 = self.猜过 + 1\n",
    "        if self.猜过 > self.最多猜几次:\n",
    "            return '你猜的次数太多了'\n",
    "        print(f'第{self.猜过}次猜测')\n",
    "        if 数字 > self.答案:\n",
    "            return '太大了'\n",
    "        elif 数字 < self.答案:\n",
    "            return '太小了'\n",
    "        else: \n",
    "            return '答对了'\n",
    "    \n",
    "第一局猜数游戏 = 猜数(2)\n",
    "第一局猜数游戏.答案, 第一局猜数游戏.我猜(3), 第一局猜数游戏.我猜(6), 第一局猜数游戏.我猜(9)"
   ]
  },
  {
   "cell_type": "markdown",
   "metadata": {},
   "source": [
    "可以看到当我们限制玩家只能猜测2次的时候, 第三次猜测会返回 '你猜的次数太多了'\n",
    "\n",
    "作为猜数游戏, 如果玩家已经猜测到了正确答案, 那么就没有再一次猜测的必要了"
   ]
  },
  {
   "cell_type": "markdown",
   "metadata": {},
   "source": [
    "### 练习: 请修改猜数类, 限制已经猜到正确答案的玩家, 提示他: 你已经猜到过了"
   ]
  },
  {
   "cell_type": "code",
   "execution_count": null,
   "metadata": {},
   "outputs": [],
   "source": []
  }
 ],
 "metadata": {
  "kernelspec": {
   "display_name": "Python 3",
   "language": "python",
   "name": "python3"
  },
  "language_info": {
   "codemirror_mode": {
    "name": "ipython",
    "version": 3
   },
   "file_extension": ".py",
   "mimetype": "text/x-python",
   "name": "python",
   "nbconvert_exporter": "python",
   "pygments_lexer": "ipython3",
   "version": "3.6.9"
  }
 },
 "nbformat": 4,
 "nbformat_minor": 4
}

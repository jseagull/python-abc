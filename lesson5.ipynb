{
 "cells": [
  {
   "cell_type": "markdown",
   "metadata": {},
   "source": [
    "# 猜数2 (类 )"
   ]
  },
  {
   "cell_type": "markdown",
   "metadata": {},
   "source": [
    "类是面向对象编成中的一个重要的概念\n",
    "\n",
    "主要的目的是将数据和处理这些数据的函数集中到一起, 方便查看和修改"
   ]
  },
  {
   "cell_type": "code",
   "execution_count": 1,
   "metadata": {},
   "outputs": [],
   "source": [
    "import random\n",
    "\n",
    "\n",
    "class 猜数():  # 类的名称\n",
    "    def __init__(self):  # 类的构造函数 当调用 猜数() 的时候会被执行\n",
    "        print('猜数.__init__被执行了!')\n",
    "        self.答案 = random.randint(1, 10)  # 将一些数据存储在类的属性当中, 方便以后使用\n",
    "        print(f'答案目前确定了,就是: {self.答案}')\n",
    "    \n",
    "    def 猜一次(self, 数字):  # 相对于普通函数, 多了一个self, 方便调用类的属性和其他函数\n",
    "        if 数字 > self.答案:\n",
    "            return '太大了'\n",
    "        elif 数字 < self.答案:\n",
    "            return '太小了'\n",
    "        else: \n",
    "            return '答对了'"
   ]
  },
  {
   "cell_type": "code",
   "execution_count": 2,
   "metadata": {},
   "outputs": [
    {
     "name": "stdout",
     "output_type": "stream",
     "text": [
      "猜数.__init__被执行了!\n",
      "答案目前确定了,就是: 4\n"
     ]
    }
   ],
   "source": [
    "第一局 = 猜数()"
   ]
  },
  {
   "cell_type": "code",
   "execution_count": 3,
   "metadata": {},
   "outputs": [
    {
     "data": {
      "text/plain": [
       "('太小了', '太大了', '太大了')"
      ]
     },
     "execution_count": 3,
     "metadata": {},
     "output_type": "execute_result"
    }
   ],
   "source": [
    "第一局.猜一次(3), 第一局.猜一次(6), 第一局.猜一次(9)"
   ]
  },
  {
   "cell_type": "code",
   "execution_count": 4,
   "metadata": {},
   "outputs": [
    {
     "name": "stdout",
     "output_type": "stream",
     "text": [
      "猜数.__init__被执行了!\n",
      "答案目前确定了,就是: 3\n"
     ]
    },
    {
     "data": {
      "text/plain": [
       "('答对了', '太大了', '太大了')"
      ]
     },
     "execution_count": 4,
     "metadata": {},
     "output_type": "execute_result"
    }
   ],
   "source": [
    "第二局 = 猜数()\n",
    "第二局.猜一次(3), 第二局.猜一次(6), 第二局.猜一次(9)"
   ]
  },
  {
   "cell_type": "markdown",
   "metadata": {},
   "source": [
    "可以用类的属性记录更多信息, 例如这一局中玩家猜过几次"
   ]
  },
  {
   "cell_type": "code",
   "execution_count": 10,
   "metadata": {},
   "outputs": [
    {
     "name": "stdout",
     "output_type": "stream",
     "text": [
      "第1次猜测\n",
      "第2次猜测\n",
      "第3次猜测\n"
     ]
    },
    {
     "data": {
      "text/plain": [
       "(4, '太小了', '太大了', '太大了')"
      ]
     },
     "execution_count": 10,
     "metadata": {},
     "output_type": "execute_result"
    }
   ],
   "source": [
    "import random\n",
    "\n",
    "\n",
    "class 猜数():\n",
    "    def __init__(self):\n",
    "        self.答案 = random.randint(1, 10)\n",
    "        self.猜过 = 0\n",
    "    \n",
    "    def 猜一次(self, 数字):\n",
    "        self.猜过 = self.猜过 + 1\n",
    "        print(f'第{self.猜过}次猜测')\n",
    "        if 数字 > self.答案:\n",
    "            return '太大了'\n",
    "        elif 数字 < self.答案:\n",
    "            return '太小了'\n",
    "        else: \n",
    "            return '答对了'\n",
    "    \n",
    "第一局 = 猜数()\n",
    "第一局.答案, 第一局.猜一次(3), 第一局.猜一次(6), 第一局.猜一次(9)"
   ]
  },
  {
   "cell_type": "markdown",
   "metadata": {},
   "source": [
    "类的属性和方法配合, 限制玩家猜测的次数"
   ]
  },
  {
   "cell_type": "code",
   "execution_count": 11,
   "metadata": {},
   "outputs": [
    {
     "name": "stdout",
     "output_type": "stream",
     "text": [
      "第1次猜测\n",
      "第2次猜测\n"
     ]
    },
    {
     "data": {
      "text/plain": [
       "(5, '太小了', '太大了', '你猜的次数太多了')"
      ]
     },
     "execution_count": 11,
     "metadata": {},
     "output_type": "execute_result"
    }
   ],
   "source": [
    "import random\n",
    "\n",
    "\n",
    "class 猜数():\n",
    "    def __init__(self, 最多猜几次=5):  # 默认值是5, 表示  猜数() 相当于 猜数(5)\n",
    "        self.答案 = random.randint(1, 10)\n",
    "        self.猜过 = 0\n",
    "        self.最多猜几次 = 最多猜几次\n",
    "    \n",
    "    def 猜一次(self, 数字):\n",
    "        self.猜过 = self.猜过 + 1\n",
    "        if self.猜过 > self.最多猜几次:\n",
    "            return '你猜的次数太多了'\n",
    "        print(f'第{self.猜过}次猜测')\n",
    "        if 数字 > self.答案:\n",
    "            return '太大了'\n",
    "        elif 数字 < self.答案:\n",
    "            return '太小了'\n",
    "        else: \n",
    "            return '答对了'\n",
    "    \n",
    "第一局 = 猜数(2)\n",
    "第一局.答案, 第一局.猜一次(3), 第一局.猜一次(6), 第一局.猜一次(9)"
   ]
  },
  {
   "cell_type": "markdown",
   "metadata": {},
   "source": [
    "练习: 请用类的属性配合限制已经猜到正确答案的玩家, 提示他: 你已经猜到过了"
   ]
  },
  {
   "cell_type": "code",
   "execution_count": null,
   "metadata": {},
   "outputs": [],
   "source": []
  }
 ],
 "metadata": {
  "kernelspec": {
   "display_name": "Python 3",
   "language": "python",
   "name": "python3"
  },
  "language_info": {
   "codemirror_mode": {
    "name": "ipython",
    "version": 3
   },
   "file_extension": ".py",
   "mimetype": "text/x-python",
   "name": "python",
   "nbconvert_exporter": "python",
   "pygments_lexer": "ipython3",
   "version": "3.6.9"
  }
 },
 "nbformat": 4,
 "nbformat_minor": 4
}

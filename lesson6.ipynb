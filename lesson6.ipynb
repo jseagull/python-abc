{
 "cells": [
  {
   "cell_type": "markdown",
   "metadata": {},
   "source": [
    "# 猜数3 (类的使用)\n",
    "\n",
    "上一节课我们设计了一个猜数游戏\n",
    "\n",
    "那么这节课我们就作为玩家开始玩这个猜数游戏吧"
   ]
  },
  {
   "cell_type": "code",
   "execution_count": 1,
   "metadata": {},
   "outputs": [],
   "source": [
    "import random\n",
    "\n",
    "class 猜数():\n",
    "    def __init__(self, 最多猜几次=5):  # 默认值是5, 表示  猜数() 相当于 猜数(5)\n",
    "        self.答案 = random.randint(1, 10)\n",
    "        self.猜过 = 0\n",
    "        self.最多猜几次 = 最多猜几次\n",
    "    \n",
    "    def 我猜(self, 数字):\n",
    "        self.猜过 = self.猜过 + 1\n",
    "        if self.猜过 > self.最多猜几次:\n",
    "            return '你猜的次数太多了'\n",
    "        print(f'第{self.猜过}次猜测')\n",
    "        if 数字 > self.答案:\n",
    "            return '太大了'\n",
    "        elif 数字 < self.答案:\n",
    "            return '太小了'\n",
    "        else: \n",
    "            return '答对了'"
   ]
  },
  {
   "cell_type": "markdown",
   "metadata": {},
   "source": [
    "我们定义了默认最多猜5次, 那就先猜个5次好了"
   ]
  },
  {
   "cell_type": "code",
   "execution_count": 2,
   "metadata": {},
   "outputs": [
    {
     "name": "stdout",
     "output_type": "stream",
     "text": [
      "0\n",
      "1\n",
      "2\n",
      "3\n",
      "4\n"
     ]
    }
   ],
   "source": [
    "猜数游戏 = 猜数()\n",
    "\n",
    "for i in range(猜数游戏.最多猜几次):\n",
    "    print(i)"
   ]
  },
  {
   "cell_type": "markdown",
   "metadata": {},
   "source": [
    "从上面打印的结果我们就能猜测出`for`循环和`range`函数的大概作用了\n",
    "\n",
    "那我们稍微改造一下, 加深一下对`for`循环和`range`函数的理解"
   ]
  },
  {
   "cell_type": "code",
   "execution_count": 3,
   "metadata": {},
   "outputs": [
    {
     "name": "stdout",
     "output_type": "stream",
     "text": [
      "正确答案: 4\n",
      "第1次猜测\n",
      "我猜测0, 结果:太小了\n",
      "第2次猜测\n",
      "我猜测1, 结果:太小了\n",
      "第3次猜测\n",
      "我猜测2, 结果:太小了\n",
      "第4次猜测\n",
      "我猜测3, 结果:太小了\n",
      "第5次猜测\n",
      "我猜测4, 结果:答对了\n",
      "第6次猜测\n",
      "我猜测5, 结果:太大了\n",
      "第7次猜测\n",
      "我猜测6, 结果:太大了\n",
      "第8次猜测\n",
      "我猜测7, 结果:太大了\n",
      "第9次猜测\n",
      "我猜测8, 结果:太大了\n"
     ]
    }
   ],
   "source": [
    "猜数游戏 = 猜数(9)\n",
    "\n",
    "print('正确答案:', 猜数游戏.答案)\n",
    "for i in range(猜数游戏.最多猜几次):\n",
    "    print(f'我猜测{i}, 结果:{猜数游戏.我猜(i)}')"
   ]
  },
  {
   "cell_type": "markdown",
   "metadata": {},
   "source": [
    "这里我们发现了一个问题, 游戏明明已经告诉我们 答对了, 我们还在继续猜其他数数字, 有点蠢"
   ]
  },
  {
   "cell_type": "markdown",
   "metadata": {},
   "source": [
    "### 练习: 设计一个函数, 猜出正确的数字并停止下来, (不使用 猜数().答案)\n",
    "\n",
    "提示: `for`循环和`while`循环一样, 都可以用`break`退出循环区域"
   ]
  },
  {
   "cell_type": "code",
   "execution_count": null,
   "metadata": {},
   "outputs": [],
   "source": []
  }
 ],
 "metadata": {
  "kernelspec": {
   "display_name": "Python 3",
   "language": "python",
   "name": "python3"
  },
  "language_info": {
   "codemirror_mode": {
    "name": "ipython",
    "version": 3
   },
   "file_extension": ".py",
   "mimetype": "text/x-python",
   "name": "python",
   "nbconvert_exporter": "python",
   "pygments_lexer": "ipython3",
   "version": "3.6.9"
  }
 },
 "nbformat": 4,
 "nbformat_minor": 4
}

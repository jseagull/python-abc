{
 "cells": [
  {
   "cell_type": "markdown",
   "metadata": {},
   "source": [
    "# 猜数3 (函数的调用)"
   ]
  },
  {
   "cell_type": "code",
   "execution_count": 3,
   "metadata": {},
   "outputs": [
    {
     "name": "stdout",
     "output_type": "stream",
     "text": [
      "第1次猜测\n",
      "第2次猜测\n",
      "第3次猜测\n",
      "第4次猜测\n"
     ]
    },
    {
     "data": {
      "text/plain": [
       "(2, '太小了', '答对了', '太大了', '太大了')"
      ]
     },
     "execution_count": 3,
     "metadata": {},
     "output_type": "execute_result"
    }
   ],
   "source": [
    "import import_ipynb\n",
    "from lesson5 import 猜数\n",
    "\n",
    "第一局 = 猜数()\n",
    "第一局.答案, 第一局.猜一次(1), 第一局.猜一次(2), 第一局.猜一次(3), 第一局.猜一次(4)"
   ]
  },
  {
   "cell_type": "code",
   "execution_count": 5,
   "metadata": {},
   "outputs": [
    {
     "name": "stdout",
     "output_type": "stream",
     "text": [
      "0\n",
      "1\n",
      "2\n",
      "3\n",
      "4\n"
     ]
    }
   ],
   "source": [
    "第一局 = 猜数()\n",
    "\n",
    "for i in range(第一局.最多猜几次):\n",
    "    print(i)"
   ]
  },
  {
   "cell_type": "code",
   "execution_count": 7,
   "metadata": {},
   "outputs": [
    {
     "name": "stdout",
     "output_type": "stream",
     "text": [
      "正确答案: 10\n",
      "第1次猜测\n",
      "我猜测0, 结果:太小了\n",
      "第2次猜测\n",
      "我猜测1, 结果:太小了\n",
      "第3次猜测\n",
      "我猜测2, 结果:太小了\n",
      "第4次猜测\n",
      "我猜测3, 结果:太小了\n",
      "第5次猜测\n",
      "我猜测4, 结果:太小了\n",
      "第6次猜测\n",
      "我猜测5, 结果:太小了\n",
      "第7次猜测\n",
      "我猜测6, 结果:太小了\n",
      "第8次猜测\n",
      "我猜测7, 结果:太小了\n",
      "第9次猜测\n",
      "我猜测8, 结果:太小了\n"
     ]
    }
   ],
   "source": [
    "第一局 = 猜数(9)\n",
    "\n",
    "print('正确答案:', 第一局.答案)\n",
    "for i in range(第一局.最多猜几次):\n",
    "    print(f'我猜测{i}, 结果:{第一局.猜一次(i)}')"
   ]
  },
  {
   "cell_type": "markdown",
   "metadata": {},
   "source": [
    "### 练习: 设计一个函数, 自动猜出正确的数字并停止下来, (不使用 猜数().答案)"
   ]
  },
  {
   "cell_type": "code",
   "execution_count": null,
   "metadata": {},
   "outputs": [],
   "source": []
  }
 ],
 "metadata": {
  "kernelspec": {
   "display_name": "Python 3",
   "language": "python",
   "name": "python3"
  },
  "language_info": {
   "codemirror_mode": {
    "name": "ipython",
    "version": 3
   },
   "file_extension": ".py",
   "mimetype": "text/x-python",
   "name": "python",
   "nbconvert_exporter": "python",
   "pygments_lexer": "ipython3",
   "version": "3.6.9"
  }
 },
 "nbformat": 4,
 "nbformat_minor": 4
}

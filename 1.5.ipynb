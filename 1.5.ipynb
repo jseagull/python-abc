{
 "cells": [
  {
   "cell_type": "markdown",
   "metadata": {},
   "source": [
    "# 分支"
   ]
  },
  {
   "cell_type": "markdown",
   "metadata": {},
   "source": [
    "程序默认是从上到下, 从左到右执行的\n",
    "\n",
    "现实中遇到复杂的问题我们作出判断, 满足条件的使用一种策略, 不满足的采取另一种策略\n",
    "\n",
    "这类问题如何用编程实现呢?\n",
    "\n",
    "首先我们定义一个人"
   ]
  },
  {
   "cell_type": "code",
   "execution_count": 1,
   "metadata": {},
   "outputs": [],
   "source": [
    "class 人():\n",
    "    def __init__(self, 年龄):\n",
    "        self.年龄 = 年龄"
   ]
  },
  {
   "cell_type": "markdown",
   "metadata": {},
   "source": [
    "运行之后, 发现什么也没有发生, 这是正常的, 因为我们只定义`人`这个类, 还没有使用\n",
    "\n",
    "下面我们使用一下"
   ]
  },
  {
   "cell_type": "code",
   "execution_count": 2,
   "metadata": {},
   "outputs": [
    {
     "name": "stdout",
     "output_type": "stream",
     "text": [
      "10 20 70\n"
     ]
    }
   ],
   "source": [
    "儿童 = 人(10)\n",
    "青年 = 人(20)\n",
    "老人 = 人(70)\n",
    "print(儿童.年龄, 青年.年龄, 老人.年龄)"
   ]
  },
  {
   "cell_type": "markdown",
   "metadata": {},
   "source": [
    "我们构造了几个人, 并且打印了他的年龄\n",
    "\n",
    "但是我们构造一个人的时候其实我们已经知道了他到底是儿童还是青年还是老人\n",
    "\n",
    "那么如何自动判断出一个人的年龄阶层呢?\n",
    "\n",
    "这就要用到分支语句`if/elif/else`了"
   ]
  },
  {
   "cell_type": "code",
   "execution_count": 3,
   "metadata": {},
   "outputs": [],
   "source": [
    "class 人():\n",
    "    def __init__(self, 年龄):\n",
    "        self.年龄 = 年龄\n",
    "        \n",
    "    def 我多大(self):\n",
    "        if self.年龄 <= 18:\n",
    "            return '我还是个孩子^_^'\n",
    "        if self.年龄 < 60:\n",
    "            return '我正值壮年!'\n",
    "        return '我已经老了...'"
   ]
  },
  {
   "cell_type": "code",
   "execution_count": 4,
   "metadata": {},
   "outputs": [
    {
     "name": "stdout",
     "output_type": "stream",
     "text": [
      "我还是个孩子^_^\n",
      "我正值壮年!\n",
      "我已经老了...\n"
     ]
    }
   ],
   "source": [
    "print(人(10).我多大())\n",
    "print(人(20).我多大())\n",
    "print(人(90).我多大())"
   ]
  },
  {
   "cell_type": "markdown",
   "metadata": {},
   "source": [
    "通过上面的结果我们可以看到, `我多大`函数虽然有3个`return`, 但是实际上只有一个返回值, 说明\n",
    "\n",
    "**一个函数只能被`return`一次,一旦`return`后, 这个函数内的其他的代码就都不会再被执行了**\n",
    "\n",
    "人不光有年龄还有性别, 我们给`人`类里面加一个性别"
   ]
  },
  {
   "cell_type": "code",
   "execution_count": 5,
   "metadata": {},
   "outputs": [],
   "source": [
    "class 人():\n",
    "    def __init__(self, 年龄, 性别):\n",
    "        self.年龄 = 年龄\n",
    "        self.性别 = 性别\n",
    "        \n",
    "    def 我多大(self):\n",
    "        if self.年龄 <= 18:\n",
    "            return '我还是个孩子^_^'\n",
    "        if self.年龄 < 60:\n",
    "            return '我正值壮年!'\n",
    "        return '我已经老了...'"
   ]
  },
  {
   "cell_type": "markdown",
   "metadata": {},
   "source": [
    "性别加好了, `我多大`函数可以返回年龄的同时也加上性别区分了"
   ]
  },
  {
   "cell_type": "code",
   "execution_count": 6,
   "metadata": {},
   "outputs": [],
   "source": [
    "class 人():\n",
    "    def __init__(self, 年龄, 性别):\n",
    "        self.年龄 = 年龄\n",
    "        self.性别 = 性别\n",
    "        \n",
    "    def 我多大(self):\n",
    "        if self.年龄 <= 18:\n",
    "            if self.性别 == '男':\n",
    "                return '我是个男孩子'\n",
    "            elif self.性别 == '女':\n",
    "                return '我是个女孩子^_^'\n",
    "            else:\n",
    "                return '我还是个孩子, 不知道自己是什么性别'\n",
    "            \n",
    "        if self.年龄 < 60:\n",
    "            if self.性别 == '女':\n",
    "                return '我是女青年'\n",
    "            elif self.性别 == '男':\n",
    "                return '我是一名青年'\n",
    "            else:\n",
    "                return '我是人妖?'\n",
    "        \n",
    "        if self.性别 == '男':\n",
    "            return '我已经是个老头了'\n",
    "        if self.性别 == '女':\n",
    "            return '我不是老太太, 我是小仙女!'\n",
    "        return '我是公公?'"
   ]
  },
  {
   "cell_type": "code",
   "execution_count": 7,
   "metadata": {},
   "outputs": [
    {
     "name": "stdout",
     "output_type": "stream",
     "text": [
      "我是个男孩子\n",
      "我是个女孩子^_^\n",
      "我还是个孩子, 不知道自己是什么性别\n",
      "===========\n",
      "我是一名青年\n",
      "我是女青年\n",
      "我是人妖?\n",
      "===========\n",
      "我已经是个老头了\n",
      "我不是老太太, 我是小仙女!\n",
      "我是公公?\n"
     ]
    }
   ],
   "source": [
    "print(人(10, '男').我多大())\n",
    "print(人(10, '女').我多大())\n",
    "print(人(10, '?').我多大())\n",
    "print('===========')\n",
    "print(人(20, '男').我多大())\n",
    "print(人(20, '女').我多大())\n",
    "print(人(20, '!').我多大())\n",
    "print('===========')\n",
    "print(人(66, '男').我多大())\n",
    "print(人(66, '女').我多大())\n",
    "print(人(66, '?!').我多大())"
   ]
  },
  {
   "cell_type": "markdown",
   "metadata": {},
   "source": [
    "性别判断这里使用了三种方式, 实际达成的效果是一样的\n",
    "\n",
    "注意理解这三种不同的写法不同在哪里, 以及为什么他们的效果是一样的"
   ]
  },
  {
   "cell_type": "markdown",
   "metadata": {},
   "source": [
    "### 练习: 将年龄阶段扩写成 婴儿, 儿童, 青年, 中间, 老年"
   ]
  },
  {
   "cell_type": "code",
   "execution_count": null,
   "metadata": {},
   "outputs": [],
   "source": []
  }
 ],
 "metadata": {
  "kernelspec": {
   "display_name": "Python 3",
   "language": "python",
   "name": "python3"
  },
  "language_info": {
   "codemirror_mode": {
    "name": "ipython",
    "version": 3
   },
   "file_extension": ".py",
   "mimetype": "text/x-python",
   "name": "python",
   "nbconvert_exporter": "python",
   "pygments_lexer": "ipython3",
   "version": "3.8.6"
  }
 },
 "nbformat": 4,
 "nbformat_minor": 4
}

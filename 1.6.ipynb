{
 "cells": [
  {
   "cell_type": "markdown",
   "metadata": {},
   "source": [
    "# 循环"
   ]
  },
  {
   "cell_type": "markdown",
   "metadata": {},
   "source": [
    "上节课我们定义了一个`人`类\n",
    "\n",
    "并且给`人`类添加了`我多大`函数\n",
    "\n",
    "但是人的年龄并不是一直不变的, 如何体现人的年龄的变化呢\n",
    "\n",
    "接下来我们给人类加一个`过生日`函数, 让人的年龄能够变化"
   ]
  },
  {
   "cell_type": "code",
   "execution_count": 1,
   "metadata": {},
   "outputs": [],
   "source": [
    "class 人():\n",
    "    def __init__(self, 年龄, 性别):\n",
    "        self.年龄 = 年龄\n",
    "        self.性别 = 性别\n",
    "        \n",
    "    def 我多大(self):\n",
    "        if self.年龄 <= 18:\n",
    "            if self.性别 == '男':\n",
    "                return '我是个男孩子'\n",
    "            elif self.性别 == '女':\n",
    "                return '我是个女孩子^_^'\n",
    "            else:\n",
    "                return '我还是个孩子, 不知道自己是什么性别'\n",
    "            \n",
    "        if self.年龄 < 60:\n",
    "            if self.性别 == '女':\n",
    "                return '我是女青年'\n",
    "            elif self.性别 == '男':\n",
    "                return '我是一名青年'\n",
    "            else:\n",
    "                return '我是人妖?'\n",
    "        \n",
    "        if self.性别 == '男':\n",
    "            return '我已经是个老头了'\n",
    "        if self.性别 == '女':\n",
    "            return '我不是老太太, 我是小仙女!'\n",
    "        return '我是公公?'\n",
    "    \n",
    "    def 过生日(self):\n",
    "        self.年龄 = self.年龄 + 1"
   ]
  },
  {
   "cell_type": "markdown",
   "metadata": {},
   "source": [
    "这个函数是不是很简单? 让我们测试一下效果"
   ]
  },
  {
   "cell_type": "code",
   "execution_count": 2,
   "metadata": {},
   "outputs": [
    {
     "name": "stdout",
     "output_type": "stream",
     "text": [
      "我是个男孩子\n",
      "我是一名青年\n"
     ]
    }
   ],
   "source": [
    "儿童 = 人(18, '男')\n",
    "print(儿童.我多大())\n",
    "儿童.过生日()\n",
    "print(儿童.我多大())"
   ]
  },
  {
   "cell_type": "markdown",
   "metadata": {},
   "source": [
    "我们成功的让18岁的儿童变成了青年, 那么如何让10岁的儿童变成青年呢?"
   ]
  },
  {
   "cell_type": "code",
   "execution_count": 3,
   "metadata": {},
   "outputs": [
    {
     "name": "stdout",
     "output_type": "stream",
     "text": [
      "我是个男孩子\n",
      "我是个男孩子\n",
      "我是一名青年\n"
     ]
    }
   ],
   "source": [
    "儿童 = 人(10, '男')\n",
    "print(儿童.我多大())\n",
    "儿童.过生日()\n",
    "儿童.过生日()\n",
    "儿童.过生日()\n",
    "儿童.过生日()\n",
    "儿童.过生日()\n",
    "儿童.过生日()\n",
    "儿童.过生日()\n",
    "儿童.过生日()\n",
    "print(儿童.我多大())\n",
    "儿童.过生日()\n",
    "print(儿童.我多大())"
   ]
  },
  {
   "cell_type": "markdown",
   "metadata": {},
   "source": [
    "虽然我们通过重复调用`过生日`函数9次, 做到了这点\n",
    "\n",
    "但是DIY原则告诉我们这样做是不好的, 有什么办法让程序替我们重复调用呢\n",
    "\n",
    "这就涉及到了编程中的重要概念**循环**"
   ]
  },
  {
   "cell_type": "code",
   "execution_count": 4,
   "metadata": {},
   "outputs": [
    {
     "name": "stdout",
     "output_type": "stream",
     "text": [
      "===第 1 次循环===\n",
      "现在 i = 0\n",
      "===第 2 次循环===\n",
      "现在 i = 1\n",
      "===第 3 次循环===\n",
      "现在 i = 2\n",
      "===第 4 次循环===\n",
      "现在 i = 3\n",
      "===第 5 次循环===\n",
      "现在 i = 4\n",
      "===第 6 次循环===\n",
      "现在 i = 5\n",
      "===第 7 次循环===\n",
      "现在 i = 6\n",
      "===第 8 次循环===\n",
      "现在 i = 7\n",
      "===第 9 次循环===\n",
      "现在 i = 8\n",
      "===第 10 次循环===\n",
      "现在 i = 9\n",
      "我没有被循环\n"
     ]
    }
   ],
   "source": [
    "for i in range(10):\n",
    "    print(f'===第 {i + 1} 次循环===')\n",
    "    print(f'现在 i = {i}')\n",
    "print('我没有被循环')"
   ]
  },
  {
   "cell_type": "markdown",
   "metadata": {},
   "source": [
    "可以看到仅仅是一行`for i in range(10):`就让下面的代码都重复10次\n",
    "    \n",
    "那么如何利用循环简化刚才的答案呢?"
   ]
  },
  {
   "cell_type": "code",
   "execution_count": 5,
   "metadata": {},
   "outputs": [
    {
     "name": "stdout",
     "output_type": "stream",
     "text": [
      "我是个男孩子\n",
      "我是一名青年\n"
     ]
    }
   ],
   "source": [
    "儿童 = 人(10, '男')\n",
    "print(儿童.我多大())\n",
    "for i in range(9):\n",
    "    儿童.过生日()\n",
    "print(儿童.我多大())"
   ]
  },
  {
   "cell_type": "markdown",
   "metadata": {},
   "source": [
    "是不是简单多了? 那我们来给`人`类写一个`成长`函数, 一直成长到下一个阶段, 然后停下来\n",
    "\n",
    "但是每个年龄段的时间长度并不一样, 不同年龄的儿童成长到青年需要`过生日`的次数也不一样, 这要怎么办呢?\n",
    "\n",
    "这就要依靠另外一个`循环`的方式`while`循环"
   ]
  },
  {
   "cell_type": "code",
   "execution_count": 6,
   "metadata": {},
   "outputs": [],
   "source": [
    "class 人():\n",
    "    def __init__(self, 年龄, 性别):\n",
    "        self.年龄 = 年龄\n",
    "        self.性别 = 性别\n",
    "        \n",
    "    def 我多大(self):\n",
    "        if self.年龄 <= 18:\n",
    "            if self.性别 == '男':\n",
    "                return '我是个男孩子'\n",
    "            elif self.性别 == '女':\n",
    "                return '我是个女孩子^_^'\n",
    "            else:\n",
    "                return '我还是个孩子, 不知道自己是什么性别'\n",
    "            \n",
    "        if self.年龄 < 60:\n",
    "            if self.性别 == '女':\n",
    "                return '我是女青年'\n",
    "            elif self.性别 == '男':\n",
    "                return '我是一名青年'\n",
    "            else:\n",
    "                return '我是人妖?'\n",
    "        \n",
    "        if self.性别 == '男':\n",
    "            return '我已经是个老头了'\n",
    "        if self.性别 == '女':\n",
    "            return '我不是老太太, 我是小仙女!'\n",
    "        return '我是公公?'\n",
    "    \n",
    "    def 过生日(self):\n",
    "        self.年龄 = self.年龄 + 1\n",
    "        \n",
    "    def 成长(self):\n",
    "        初始年龄阶段 = self.我多大()\n",
    "        # 永久重复循环区域内的代码\n",
    "        while True:\n",
    "            self.过生日()\n",
    "            if self.我多大() != 初始年龄阶段:\n",
    "                break  # 离开循环区域\n",
    "        print('我成长了!')\n",
    "        print(f'现在{self.我多大()}')"
   ]
  },
  {
   "cell_type": "markdown",
   "metadata": {},
   "source": [
    "可开出来`while`循环是永远重复里面的内容, 直到被`break`掉, 而之前的`for`循环是固定重复几次\n",
    "\n",
    "当然`for`循环过程中也可以被`break`掉\n",
    "\n",
    "现在我们测试一下`成长`函数的效果"
   ]
  },
  {
   "cell_type": "code",
   "execution_count": 7,
   "metadata": {},
   "outputs": [
    {
     "name": "stdout",
     "output_type": "stream",
     "text": [
      "我是个女孩子^_^\n",
      "我成长了!\n",
      "现在我是女青年\n",
      "19\n",
      "我成长了!\n",
      "现在我不是老太太, 我是小仙女!\n",
      "60\n"
     ]
    }
   ],
   "source": [
    "儿童 = 人(3, '女')\n",
    "print(儿童.我多大())\n",
    "儿童.成长()\n",
    "print(儿童.年龄)\n",
    "儿童.成长()\n",
    "print(儿童.年龄)"
   ]
  },
  {
   "cell_type": "markdown",
   "metadata": {},
   "source": [
    "可以看到正好成长到了下一阶段就停下来了\n",
    "\n",
    "### 练习: 定义一个`生物`类, 从 单细胞一直`进化`到人, 过程自己编"
   ]
  },
  {
   "cell_type": "code",
   "execution_count": null,
   "metadata": {},
   "outputs": [],
   "source": []
  }
 ],
 "metadata": {
  "kernelspec": {
   "display_name": "Python 3",
   "language": "python",
   "name": "python3"
  },
  "language_info": {
   "codemirror_mode": {
    "name": "ipython",
    "version": 3
   },
   "file_extension": ".py",
   "mimetype": "text/x-python",
   "name": "python",
   "nbconvert_exporter": "python",
   "pygments_lexer": "ipython3",
   "version": "3.8.6"
  }
 },
 "nbformat": 4,
 "nbformat_minor": 4
}

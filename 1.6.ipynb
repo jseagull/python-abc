{
 "cells": [
  {
   "cell_type": "markdown",
   "metadata": {},
   "source": [
    "# 循环"
   ]
  },
  {
   "cell_type": "markdown",
   "metadata": {},
   "source": [
    "上节课我们定义了一个`人`类\n",
    "\n",
    "并且给`人`类添加了`我多大`函数\n",
    "\n",
    "但是人的年龄并不是一直不变的, 如何体现人的年龄的变化呢\n",
    "\n",
    "接下来我们给人类加一个`过生日`函数, 让人的年龄能够变化"
   ]
  },
  {
   "cell_type": "code",
   "execution_count": 1,
   "metadata": {},
   "outputs": [],
   "source": [
    "class 人():\n",
    "    def __init__(self, 年龄, 性别):\n",
    "        self.年龄 = 年龄\n",
    "        self.性别 = 性别\n",
    "        \n",
    "    def 我多大(self):\n",
    "        if self.年龄 <= 18:\n",
    "            if self.性别 == '男':\n",
    "                return '我是个男孩子'\n",
    "            elif self.性别 == '女':\n",
    "                return '我是个女孩子^_^'\n",
    "            else:\n",
    "                return '我还是个孩子, 不知道自己是什么性别'\n",
    "            \n",
    "        if self.年龄 < 60:\n",
    "            if self.性别 == '女':\n",
    "                return '我女青年'\n",
    "            elif self.性别 == '男':\n",
    "                return '我是一名青年'\n",
    "            else:\n",
    "                return '我是人妖?'\n",
    "        \n",
    "        if self.性别 == '男':\n",
    "            return '我已经是个老头了'\n",
    "        if self.性别 == '女':\n",
    "            return '我不是老太太, 我是小仙女!'\n",
    "        return '我是公公?'\n",
    "    \n",
    "    def 过生日(self):\n",
    "        self.年龄 = self.年龄 + 1"
   ]
  },
  {
   "cell_type": "markdown",
   "metadata": {},
   "source": [
    "这个函数是不是很简单? 让我们测试一下效果"
   ]
  },
  {
   "cell_type": "code",
   "execution_count": 2,
   "metadata": {},
   "outputs": [
    {
     "name": "stdout",
     "output_type": "stream",
     "text": [
      "我是个男孩子\n",
      "我是一名青年\n"
     ]
    }
   ],
   "source": [
    "儿童 = 人(18, '男')\n",
    "print(儿童.我多大())\n",
    "儿童.过生日()\n",
    "print(儿童.我多大())"
   ]
  },
  {
   "cell_type": "markdown",
   "metadata": {},
   "source": [
    "我们成功的让18岁的儿童变成了青年, 那么如何让10岁的儿童变成青年呢?"
   ]
  },
  {
   "cell_type": "code",
   "execution_count": 3,
   "metadata": {},
   "outputs": [
    {
     "name": "stdout",
     "output_type": "stream",
     "text": [
      "我是个男孩子\n",
      "我是个男孩子\n",
      "我是一名青年\n"
     ]
    }
   ],
   "source": [
    "儿童 = 人(10, '男')\n",
    "print(儿童.我多大())\n",
    "儿童.过生日()\n",
    "儿童.过生日()\n",
    "儿童.过生日()\n",
    "儿童.过生日()\n",
    "儿童.过生日()\n",
    "儿童.过生日()\n",
    "儿童.过生日()\n",
    "儿童.过生日()\n",
    "print(儿童.我多大())\n",
    "儿童.过生日()\n",
    "print(儿童.我多大())"
   ]
  },
  {
   "cell_type": "markdown",
   "metadata": {},
   "source": [
    "虽然我们通过重复调用`过生日`函数9次, 做到了这点\n",
    "\n",
    "但是DIY原则告诉我们这样做是不好的, 有什么办法让程序替我们重复调用呢\n",
    "\n",
    "这就涉及到了编程中的重要概念**循环**"
   ]
  },
  {
   "cell_type": "code",
   "execution_count": 4,
   "metadata": {},
   "outputs": [
    {
     "name": "stdout",
     "output_type": "stream",
     "text": [
      "===第 1 次循环===\n",
      "现在 i = 0\n",
      "===第 2 次循环===\n",
      "现在 i = 1\n",
      "===第 3 次循环===\n",
      "现在 i = 2\n",
      "===第 4 次循环===\n",
      "现在 i = 3\n",
      "===第 5 次循环===\n",
      "现在 i = 4\n",
      "===第 6 次循环===\n",
      "现在 i = 5\n",
      "===第 7 次循环===\n",
      "现在 i = 6\n",
      "===第 8 次循环===\n",
      "现在 i = 7\n",
      "===第 9 次循环===\n",
      "现在 i = 8\n",
      "===第 10 次循环===\n",
      "现在 i = 9\n",
      "我没有被循环\n"
     ]
    }
   ],
   "source": [
    "for i in range(10):\n",
    "    print(f'===第 {i + 1} 次循环===')\n",
    "    print(f'现在 i = {i}')\n",
    "print('我没有被循环')"
   ]
  },
  {
   "cell_type": "markdown",
   "metadata": {},
   "source": [
    "可以看到仅仅是一行`for i in range(10):`就让下面的代码都重复10次\n",
    "    \n",
    "那么如何利用循环简化刚才的答案呢?"
   ]
  },
  {
   "cell_type": "code",
   "execution_count": 5,
   "metadata": {},
   "outputs": [
    {
     "name": "stdout",
     "output_type": "stream",
     "text": [
      "我是个男孩子\n",
      "我是一名青年\n"
     ]
    }
   ],
   "source": [
    "儿童 = 人(10, '男')\n",
    "print(儿童.我多大())\n",
    "for i in range(9):\n",
    "    儿童.过生日()\n",
    "print(儿童.我多大())"
   ]
  },
  {
   "cell_type": "markdown",
   "metadata": {},
   "source": [
    "是不是简单多了?\n",
    "\n",
    "### 练习: 模拟一个儿童一直成长到老人的过程"
   ]
  },
  {
   "cell_type": "code",
   "execution_count": null,
   "metadata": {},
   "outputs": [],
   "source": []
  }
 ],
 "metadata": {
  "kernelspec": {
   "display_name": "Python 3",
   "language": "python",
   "name": "python3"
  },
  "language_info": {
   "codemirror_mode": {
    "name": "ipython",
    "version": 3
   },
   "file_extension": ".py",
   "mimetype": "text/x-python",
   "name": "python",
   "nbconvert_exporter": "python",
   "pygments_lexer": "ipython3",
   "version": "3.8.5"
  }
 },
 "nbformat": 4,
 "nbformat_minor": 4
}

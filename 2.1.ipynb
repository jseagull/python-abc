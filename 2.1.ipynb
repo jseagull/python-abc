{
 "cells": [
  {
   "cell_type": "markdown",
   "metadata": {},
   "source": [
    "# 猜数1 (主持人和玩家)\n",
    "\n",
    "上节课我们学完了第一单元的基础语法\n",
    "\n",
    "从这节开始到第二单元结束, 我们共同完成一个猜数字的游戏\n",
    "\n",
    "游戏一共需要两种角色, 主持人和玩家\n",
    "\n",
    "我们先实现一个最简单的`主持人`函数\n",
    "\n",
    "告诉`主持人`一个数字, `主持人`回答你是否答对了"
   ]
  },
  {
   "cell_type": "code",
   "execution_count": 1,
   "metadata": {},
   "outputs": [
    {
     "data": {
      "text/plain": [
       "('答错了', '答对了', '答错了')"
      ]
     },
     "execution_count": 1,
     "metadata": {},
     "output_type": "execute_result"
    }
   ],
   "source": [
    "def 主持人(数字):\n",
    "    答案 = 2\n",
    "    if 数字 == 答案:\n",
    "        return '答对了'\n",
    "    return '答错了'\n",
    "\n",
    "主持人(1), 主持人(2), 主持人(3)"
   ]
  },
  {
   "cell_type": "markdown",
   "metadata": {},
   "source": [
    "答案是固定的话，那么玩家每次都`主持人(2)`就一定会正确\n",
    "\n",
    "所以我们需要引入一个随机函数`random.randint`\n",
    "\n",
    "`random.randint(x, y)` 会随机返回一个`>=x`并且`<=y`的数"
   ]
  },
  {
   "cell_type": "code",
   "execution_count": 2,
   "metadata": {},
   "outputs": [
    {
     "data": {
      "text/plain": [
       "('答错了', '答错了', '答错了')"
      ]
     },
     "execution_count": 2,
     "metadata": {},
     "output_type": "execute_result"
    }
   ],
   "source": [
    "import random\n",
    "\n",
    "def 主持人(数字):\n",
    "    答案 = random.randint(1, 3)\n",
    "    if 数字 == 答案:\n",
    "        return '答对了'\n",
    "    return '答错了'\n",
    "\n",
    "\n",
    "主持人(1), 主持人(2), 主持人(3)"
   ]
  },
  {
   "cell_type": "markdown",
   "metadata": {},
   "source": [
    "重复运行几次后我们发现\n",
    "\n",
    "有时候三次分别猜测1,2,3会都不正确, 有时候不只一次正确, 这是为什么呢?\n",
    "\n",
    "因为这是三局不同的游戏, 每一局游戏的答案都是不一样的\n",
    "\n",
    "那么如何让答案固定下来? 使得一局游戏可以多次被猜测呢?"
   ]
  },
  {
   "cell_type": "code",
   "execution_count": 3,
   "metadata": {},
   "outputs": [
    {
     "name": "stdout",
     "output_type": "stream",
     "text": [
      "游戏开始\n",
      "答案已经确定, 你可以开始猜了\n",
      "恭喜玩家猜对了正确答案: 1\n",
      "答对了 答错了 答错了\n",
      "恭喜玩家猜对了正确答案: 1\n",
      "答对了 答错了 答错了\n"
     ]
    }
   ],
   "source": [
    "import random\n",
    "\n",
    "class 主持人():\n",
    "    def __init__(self):\n",
    "        print('游戏开始')\n",
    "        self.答案 = random.randint(1, 3)\n",
    "        print('答案已经确定, 你可以开始猜了')\n",
    "        \n",
    "    def 我猜(self, 数字):\n",
    "        if 数字 == self.答案:\n",
    "            print(f'恭喜玩家猜对了正确答案: {self.答案}')\n",
    "            return '答对了'\n",
    "        return '答错了'\n",
    "    \n",
    "\n",
    "一局游戏 = 主持人()\n",
    "print(一局游戏.我猜(1), 一局游戏.我猜(2), 一局游戏.我猜(3))\n",
    "print(一局游戏.我猜(1), 一局游戏.我猜(2), 一局游戏.我猜(3))"
   ]
  },
  {
   "cell_type": "markdown",
   "metadata": {},
   "source": [
    "可以看到主持人主持了一局猜1~3的猜数游戏\n",
    "\n",
    "玩家分别猜测1, 2, 3一定能猜到答案, 再重复猜一遍结果保持不变, 说明答案确实固定了\n",
    "\n",
    "但是有个问题, 玩家猜对了答案之后, 竟然又继续猜测错误答案, 有点傻"
   ]
  },
  {
   "cell_type": "markdown",
   "metadata": {},
   "source": [
    "### 练习: 让主持人主持一场猜测1~20的猜数游戏, 并且让玩家猜对答案后, 不要继续猜错误答案"
   ]
  },
  {
   "cell_type": "code",
   "execution_count": null,
   "metadata": {},
   "outputs": [],
   "source": []
  }
 ],
 "metadata": {
  "kernelspec": {
   "display_name": "Python 3",
   "language": "python",
   "name": "python3"
  },
  "language_info": {
   "codemirror_mode": {
    "name": "ipython",
    "version": 3
   },
   "file_extension": ".py",
   "mimetype": "text/x-python",
   "name": "python",
   "nbconvert_exporter": "python",
   "pygments_lexer": "ipython3",
   "version": "3.8.5"
  }
 },
 "nbformat": 4,
 "nbformat_minor": 4
}

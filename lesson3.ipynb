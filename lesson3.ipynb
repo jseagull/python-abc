{
 "cells": [
  {
   "cell_type": "markdown",
   "metadata": {},
   "source": [
    "# 分支"
   ]
  },
  {
   "cell_type": "markdown",
   "metadata": {},
   "source": [
    "上节课我们学习了一元方程的程序表达, 那么二元方程?\n",
    "\n",
    "观察, 需要输二元方程写成函数后是什么样子, `help`结果有什么不同\n",
    "\n",
    "**注**: `print`函数可以在程序执行的过程中打印一些内容, 包括当前的变量"
   ]
  },
  {
   "cell_type": "code",
   "execution_count": 1,
   "metadata": {},
   "outputs": [
    {
     "name": "stdout",
     "output_type": "stream",
     "text": [
      "Help on function bmi in module __main__:\n",
      "\n",
      "bmi(weight, height)\n",
      "    bmi = 体重(公斤)/身高(米)的平方\n",
      "\n"
     ]
    }
   ],
   "source": [
    "def bmi(weight, height):\n",
    "    \"\"\"bmi = 体重(公斤)/身高(米)的平方\"\"\"\n",
    "    print(f'有人调用了bmi {weight} {height}')\n",
    "    return weight / height**2\n",
    "\n",
    "help(bmi)"
   ]
  },
  {
   "cell_type": "code",
   "execution_count": 2,
   "metadata": {},
   "outputs": [
    {
     "name": "stdout",
     "output_type": "stream",
     "text": [
      "有人调用了bmi 50 1.6\n",
      "有人调用了bmi 65 1.7\n"
     ]
    },
    {
     "data": {
      "text/plain": [
       "(19.531249999999996, 22.49134948096886)"
      ]
     },
     "execution_count": 2,
     "metadata": {},
     "output_type": "execute_result"
    }
   ],
   "source": [
    "bmi(50, 1.6), bmi(65, 1.7)"
   ]
  },
  {
   "cell_type": "markdown",
   "metadata": {},
   "source": [
    "上面虽然我们得到了一个人的bmi值, 但这个bmi值究竟意味胖还是瘦呢?\n",
    "\n",
    "下面就给出了通过分支语句`if/elif/else`判断一个人是胖瘦的函数\n",
    "\n",
    "**注**: 以下三种定义`我胖吗`函数效果是一样的"
   ]
  },
  {
   "cell_type": "code",
   "execution_count": 3,
   "metadata": {},
   "outputs": [
    {
     "name": "stdout",
     "output_type": "stream",
     "text": [
      "有人调用了bmi 70 1.7\n",
      "有人调用了bmi 70 1.7\n",
      "有人调用了bmi 70 1.7\n"
     ]
    },
    {
     "data": {
      "text/plain": [
       "('超重', '超重', '超重')"
      ]
     },
     "execution_count": 3,
     "metadata": {},
     "output_type": "execute_result"
    }
   ],
   "source": [
    "def 我胖吗2(体重, 身高):\n",
    "    bmi_value = bmi(体重, 身高)\n",
    "    胖吗 = '?'\n",
    "    if bmi_value >= 28:\n",
    "        胖吗 = '肥胖'\n",
    "    elif bmi_value >= 24:\n",
    "        胖吗 = '超重'\n",
    "    elif bmi_value >= 18.5:\n",
    "        胖吗 = '正常'\n",
    "    else:\n",
    "        胖吗 = '很瘦'\n",
    "    return 胖吗\n",
    "\n",
    "def 我胖吗1(体重, 身高):\n",
    "    bmi_value = bmi(体重, 身高)\n",
    "    胖吗 = '!'\n",
    "    if bmi_value < 18.5:\n",
    "        胖吗 = '很瘦'\n",
    "    elif bmi_value < 24:\n",
    "        胖吗 = '正常'\n",
    "    elif bmi_value < 28:\n",
    "        胖吗 = '超重'\n",
    "    else:\n",
    "        胖吗 = '肥胖'\n",
    "    return 胖吗\n",
    "\n",
    "def 我胖吗(体重, 身高):\n",
    "    bmi_value = bmi(体重, 身高)\n",
    "    if bmi_value < 18.5:\n",
    "        return '很瘦'\n",
    "    if bmi_value < 24:\n",
    "        return '正常'\n",
    "    if bmi_value < 28:\n",
    "        return '超重'\n",
    "    return '肥胖'\n",
    "\n",
    "我胖吗2(70, 1.7), 我胖吗1(70, 1.7), 我胖吗(70, 1.7), "
   ]
  },
  {
   "cell_type": "markdown",
   "metadata": {},
   "source": [
    "从结果上我们也看到, 上面的3中实现`我胖吗`的方式, 都是一样的\n",
    "\n",
    "### 思考: , 回想上一课学到的更好的程序的判断方法, 你认为下面哪一种实现的方式是更好的?"
   ]
  },
  {
   "cell_type": "markdown",
   "metadata": {},
   "source": [
    "上面的`我胖吗`函数只是返回了结论, 但是同样评价下, bmi数值也是不一样的\n",
    "\n",
    "下面我们定义一个`我多胖`函数, 同时给出bmi值和胖瘦评价"
   ]
  },
  {
   "cell_type": "code",
   "execution_count": 4,
   "metadata": {},
   "outputs": [
    {
     "name": "stdout",
     "output_type": "stream",
     "text": [
      "有人调用了bmi 50 1.58\n",
      "有人调用了bmi 50 1.58\n"
     ]
    },
    {
     "data": {
      "text/plain": [
       "'bmi: 20.028841531805796, 正常'"
      ]
     },
     "execution_count": 4,
     "metadata": {},
     "output_type": "execute_result"
    }
   ],
   "source": [
    "def 我多胖(体重, 身高):\n",
    "    多胖 = 我胖吗(体重, 身高)\n",
    "    bmi_value = bmi(体重, 身高)\n",
    "    return f'bmi: {bmi_value}, {多胖}'\n",
    "\n",
    "我多胖(50, 1.58)"
   ]
  },
  {
   "cell_type": "markdown",
   "metadata": {},
   "source": [
    "可以看到上面的 我多胖 调用了两次bmi函数 (有人调用了bmi 50 1.58) * 2\n",
    "\n",
    "### 练习：你能修改`我多胖`的实现, 只调用一次`bmi`函数，并得到同样的结果吗？"
   ]
  },
  {
   "cell_type": "code",
   "execution_count": 5,
   "metadata": {},
   "outputs": [],
   "source": [
    "def 我多胖(体重, 身高):\n",
    "    # 练习的答案全部写在 # 和 pass之间, pass 是占位符, 表示什么也不做\n",
    "    pass\n",
    "\n",
    "我多胖(50, 1.58)"
   ]
  }
 ],
 "metadata": {
  "kernelspec": {
   "display_name": "Python 3",
   "language": "python",
   "name": "python3"
  },
  "language_info": {
   "codemirror_mode": {
    "name": "ipython",
    "version": 3
   },
   "file_extension": ".py",
   "mimetype": "text/x-python",
   "name": "python",
   "nbconvert_exporter": "python",
   "pygments_lexer": "ipython3",
   "version": "3.6.9"
  }
 },
 "nbformat": 4,
 "nbformat_minor": 4
}

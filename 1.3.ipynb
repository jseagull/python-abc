{
 "cells": [
  {
   "cell_type": "markdown",
   "metadata": {},
   "source": [
    "# 函数的组合\n",
    "\n",
    "上节课我们定义了圆形的面积等函数, 这节课我们这些函数用计算一些略微复杂问题"
   ]
  },
  {
   "cell_type": "code",
   "execution_count": 1,
   "metadata": {},
   "outputs": [],
   "source": [
    "def 圆的面积(半径):\n",
    "    return 3.14 * 半径**2"
   ]
  },
  {
   "cell_type": "markdown",
   "metadata": {},
   "source": [
    "有的时候我们得到的并不是圆形的半径, 如果给出了圆形的直径那么要怎么计算圆形的面积呢?\n",
    "\n",
    "我们可以定义一个函数"
   ]
  },
  {
   "cell_type": "code",
   "execution_count": 2,
   "metadata": {},
   "outputs": [],
   "source": [
    "def 直径算圆面积(直径):\n",
    "    半径 = 直径 / 2\n",
    "    return 圆的面积(半径)\n",
    "\n",
    "直径算圆面积(1), 直径算圆面积(2)"
   ]
  },
  {
   "cell_type": "markdown",
   "metadata": {},
   "source": [
    "也可以这样定义"
   ]
  },
  {
   "cell_type": "code",
   "execution_count": 3,
   "metadata": {},
   "outputs": [],
   "source": [
    "def 直径算圆面积(直径):\n",
    "    return 圆的面积(直径/2)\n",
    "\n",
    "直径算圆面积(1), 直径算圆面积(2)"
   ]
  },
  {
   "cell_type": "markdown",
   "metadata": {},
   "source": [
    "甚至也可以不定义"
   ]
  },
  {
   "cell_type": "code",
   "execution_count": 4,
   "metadata": {},
   "outputs": [],
   "source": [
    "圆的面积(1/2),  圆的面积(2/2)"
   ]
  },
  {
   "cell_type": "markdown",
   "metadata": {},
   "source": [
    "可以看到上面的三种方式效果是完全一样的, 那么哪种更好呢? 一般更好的程序的标准有\n",
    "\n",
    "* 更短\n",
    "* 更容易理解\n",
    "* 更容易复用\n",
    "\n",
    "也许标准之间会有冲突, 这个时候就需要做取舍\n",
    "\n",
    "我们看如何计算周长分别为 2, 4, 6 的圆的面积?\n",
    "\n",
    "半径算圆的面积函数我们已经有了, 只要能求出圆形的半径就行了\n",
    "\n",
    "那么我们先定义一个函数从周长算圆形的半径"
   ]
  },
  {
   "cell_type": "code",
   "execution_count": 5,
   "metadata": {},
   "outputs": [],
   "source": [
    "def 周长算圆的半径(周长):\n",
    "    return 周长 / (2 * 3.14)\n",
    "\n",
    "def 周长算圆的面积(周长):\n",
    "    半径 = 周长算圆的半径(周长)\n",
    "    面积 = 圆的面积(半径)\n",
    "    return 面积\n",
    "\n",
    "周长算圆的面积(2), 周长算圆的面积(4), 周长算圆的面积(6)"
   ]
  },
  {
   "cell_type": "markdown",
   "metadata": {},
   "source": [
    "我们也可以换一个写法"
   ]
  },
  {
   "cell_type": "code",
   "execution_count": 6,
   "metadata": {},
   "outputs": [],
   "source": [
    "def 周长算圆的半径(周长):\n",
    "    return 周长 / (2 * 3.14)\n",
    "\n",
    "def 周长算圆的面积(周长):\n",
    "    return 圆的面积(周长算圆的半径(周长))\n",
    "\n",
    "周长算圆的面积(2), 周长算圆的面积(4), 周长算圆的面积(6)"
   ]
  },
  {
   "cell_type": "markdown",
   "metadata": {},
   "source": [
    "看起来有点难理解, 我们分析一下\n",
    "\n",
    "`周长算圆的半径(周长)`的结果就是半径, 那么将`圆的面积(半径)`里面的`半径`替换成`周长算圆的半径(周长)`\n",
    "\n",
    "就得到了 `圆的面积(周长算圆的半径(周长))`, 这就是`面积`, 可以直接`return`回去\n",
    "\n",
    "甚至我们也可以不定义`周长算圆的半径`函数, 直接这样写"
   ]
  },
  {
   "cell_type": "code",
   "execution_count": 7,
   "metadata": {},
   "outputs": [
    {
     "data": {
      "text/plain": [
       "(0.3184713375796178, 1.2738853503184713, 2.8662420382165608)"
      ]
     },
     "execution_count": 7,
     "metadata": {},
     "output_type": "execute_result"
    }
   ],
   "source": [
    "def 周长算圆的面积(周长):\n",
    "    return 圆的面积(周长 / (2 * 3.14))\n",
    "\n",
    "周长算圆的面积(2), 周长算圆的面积(4), 周长算圆的面积(6)"
   ]
  },
  {
   "cell_type": "markdown",
   "metadata": {},
   "source": [
    "可以看到三种写法的效果是一模一样的, 但是越短的未必更容易理解, 实际情况中究竟选哪种要看自己\n",
    "\n",
    "在保证自己能理解的情况下选更短的\n",
    "\n",
    "至于是否需要定义`周长算圆的半径`函数, 要看定义出来是否更容易理解, 或者这个函数是否其他地方也要用到"
   ]
  },
  {
   "cell_type": "markdown",
   "metadata": {},
   "source": [
    "### 练习: 计算面积分别为 2, 4, 6的圆形的周长"
   ]
  },
  {
   "cell_type": "code",
   "execution_count": null,
   "metadata": {},
   "outputs": [],
   "source": []
  }
 ],
 "metadata": {
  "kernelspec": {
   "display_name": "Python 3",
   "language": "python",
   "name": "python3"
  },
  "language_info": {
   "codemirror_mode": {
    "name": "ipython",
    "version": 3
   },
   "file_extension": ".py",
   "mimetype": "text/x-python",
   "name": "python",
   "nbconvert_exporter": "python",
   "pygments_lexer": "ipython3",
   "version": "3.8.5"
  }
 },
 "nbformat": 4,
 "nbformat_minor": 4
}

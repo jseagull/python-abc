{
 "cells": [
  {
   "cell_type": "markdown",
   "metadata": {},
   "source": [
    "# 猜数3 递归与最少猜测次数\n",
    "\n",
    "1. 对于总数为1的猜数游戏, 最多1次一定能猜到结果\n",
    "2. 对于总数为3的猜数游戏, 最多2次一定能猜到结果\n",
    "   1. 先猜中间, 猜中了那就只要1次\n",
    "   2. 没有猜中根据提示大小, 一定是左右之一\n",
    "3. 对于总数为7的猜数游戏, 最多3次一定能猜到结果\n",
    "   1. 先猜中间, 猜中了那就只要1次\n",
    "   2. 没有猜中根据提示大小, 剩下的就是一个总数为3的猜数游戏, 根据2一定能够在2次内猜中\n",
    "4. 对于总数为15的猜数游戏, 最多3次一定能猜到结果\n",
    "   1. 先猜中间, 猜中了那就只要1次\n",
    "   2. 没有猜中根据提示大小, 剩下的就是一个总数为7的猜数游戏, 根据3一定能够在3次内猜中\n",
    "   \n",
    "n为猜测几次, $a_n$为猜数游戏的数字总数, 我们可以得到如下公式\n",
    "\n",
    "$a_1 = 1$\n",
    "\n",
    "$a_n = a_{n-1} * 2 + 1$\n",
    "\n",
    "那么如何用函数表示这个公式呢?"
   ]
  },
  {
   "cell_type": "code",
   "execution_count": 1,
   "metadata": {},
   "outputs": [],
   "source": [
    "def 最多数字(猜测次数):\n",
    "    if 猜测次数 == 1:\n",
    "        return 1\n",
    "    return 最多数字(猜测次数 - 1) * 2 + 1"
   ]
  },
  {
   "cell_type": "markdown",
   "metadata": {},
   "source": [
    "看起来是不是很简单, 不必公式复杂很多, 那么我们验证一下结果是否正确"
   ]
  },
  {
   "cell_type": "code",
   "execution_count": 2,
   "metadata": {},
   "outputs": [
    {
     "data": {
      "text/plain": [
       "(1, 3, 7, 15)"
      ]
     },
     "execution_count": 2,
     "metadata": {},
     "output_type": "execute_result"
    }
   ],
   "source": [
    "最多数字(1), 最多数字(2), 最多数字(3), 最多数字(4)"
   ]
  },
  {
   "cell_type": "markdown",
   "metadata": {},
   "source": [
    "跟开头计算的结果是一样的\n",
    "\n",
    "像这样, 函数定义的过程中, 调用了自身的函数, 叫做`递归函数`\n",
    "\n",
    "`递归函数`很难理解其执行顺序, 但是看起来非常直观\n",
    "\n",
    "所有`递归函数`都可以写成对应的非递归函数, 如下:"
   ]
  },
  {
   "cell_type": "code",
   "execution_count": 3,
   "metadata": {},
   "outputs": [
    {
     "data": {
      "text/plain": [
       "(1, 3, 7, 15)"
      ]
     },
     "execution_count": 3,
     "metadata": {},
     "output_type": "execute_result"
    }
   ],
   "source": [
    "def 最多数字非递归版(猜测次数):\n",
    "    总数 = 1\n",
    "    while 猜测次数 > 1:\n",
    "        总数 = 总数 * 2 + 1\n",
    "        猜测次数 = 猜测次数 - 1\n",
    "    return 总数\n",
    "\n",
    "最多数字非递归版(1), 最多数字非递归版(2), 最多数字非递归版(3), 最多数字非递归版(4)"
   ]
  },
  {
   "cell_type": "markdown",
   "metadata": {},
   "source": [
    "相对于`递归`函数, 非递归会更加难写和难想一点, 但是对于计算机来说更友好一些\n",
    "但是对于一场猜数游戏来说, 规则会直接给出需要猜测数字的最大和最小值, 很容易就知道总共有多少个数字\n",
    "那么已知总数的情况下, 如何反过来求出最少猜测次数呢?\n",
    "求解的过程其实就是猜测的方式, 下一节课程我们再讲, 这里直接用数学方法给出证明结论\n",
    "\n",
    "$a_1 = 1$\n",
    "\n",
    "$a_n = a_{n-1} * 2 + 1$\n",
    "\n",
    "可以改写成"
   ]
  },
  {
   "cell_type": "markdown",
   "metadata": {},
   "source": [
    "$a_n * 2^0 = a_{n-1} * 2^1 + 2^0$\n",
    "\n",
    "$a_{n-1} * 2^1 = a_{n-2} * 2^2 + 2^1$\n",
    "\n",
    "$a_{n-2} * 2^2 = a_{n-3} * 2^3 + 2^2$\n",
    "\n",
    "...\n",
    "\n",
    "$a_{n-(n-2)} * 2^{n-2} = a_{n-(n-2)-1} * 2^{n-1} + 2^{n-2}$\n",
    "\n",
    "即\n",
    "\n",
    "$a_2 * 2^{n-2} = a_1 * 2^{n-1} + 2^{n-2}$\n",
    "\n",
    "等号左边右边分别相加\n",
    "\n",
    "$a_n = a_1 * 2^{n-1} + 2^{n-2} + ... + 2^2 + 2^1 + 2^0$\n",
    "\n",
    "带入 $a_1 = 1$\n",
    "\n",
    "$a_n = 2^{n-1} + 2^{n-2} + ... + 2^2 + 2^1 + 2^0$\n",
    "\n",
    "根据等差数列公式\n",
    "\n",
    "$a_n = 2^n - 1$\n",
    "\n",
    "那么反过来\n",
    "\n",
    "$n = log_2 (a_n+1)$"
   ]
  },
  {
   "cell_type": "markdown",
   "metadata": {},
   "source": [
    "### 练习: 写出根据猜数总数求出最小猜测次数的函数"
   ]
  },
  {
   "cell_type": "code",
   "execution_count": null,
   "metadata": {},
   "outputs": [],
   "source": []
  }
 ],
 "metadata": {
  "kernelspec": {
   "display_name": "Python 3",
   "language": "python",
   "name": "python3"
  },
  "language_info": {
   "codemirror_mode": {
    "name": "ipython",
    "version": 3
   },
   "file_extension": ".py",
   "mimetype": "text/x-python",
   "name": "python",
   "nbconvert_exporter": "python",
   "pygments_lexer": "ipython3",
   "version": "3.8.6"
  }
 },
 "nbformat": 4,
 "nbformat_minor": 4
}

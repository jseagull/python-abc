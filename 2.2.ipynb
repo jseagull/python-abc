{
 "cells": [
  {
   "cell_type": "markdown",
   "metadata": {},
   "source": [
    "# 猜数2 (更友好的主持人 )"
   ]
  },
  {
   "cell_type": "markdown",
   "metadata": {},
   "source": [
    "上节课我们定义了一个猜数游戏`主持人`去主持猜数游戏\n",
    "\n",
    "这次我们让主持人变得更友好一些, 给玩家多一些提示\n",
    "\n",
    "首先我们可以提示玩家猜测的数字是比正确答案大还是小, 这样玩家就不用盲目地猜测"
   ]
  },
  {
   "cell_type": "code",
   "execution_count": 1,
   "metadata": {},
   "outputs": [],
   "source": [
    "import random\n",
    "\n",
    "class 主持人():\n",
    "    def __init__(self):\n",
    "        print('游戏开始')\n",
    "        self.答案 = random.randint(1, 3)\n",
    "        print('答案已经确定, 你可以开始猜了')\n",
    "    \n",
    "    def 我猜(self, 数字):\n",
    "        if 数字 > self.答案:\n",
    "            return '太大了'\n",
    "        if 数字 < self.答案:\n",
    "            return '太小了'\n",
    "        print(f'恭喜玩家猜对了正确答案: {self.答案}')\n",
    "        return '答对了'"
   ]
  },
  {
   "cell_type": "markdown",
   "metadata": {},
   "source": [
    "然后让玩家实际猜一下试试"
   ]
  },
  {
   "cell_type": "code",
   "execution_count": 2,
   "metadata": {},
   "outputs": [
    {
     "name": "stdout",
     "output_type": "stream",
     "text": [
      "游戏开始\n",
      "答案已经确定, 你可以开始猜了\n",
      "恭喜玩家猜对了正确答案: 1\n"
     ]
    },
    {
     "data": {
      "text/plain": [
       "('答对了', '太大了', '太大了')"
      ]
     },
     "execution_count": 2,
     "metadata": {},
     "output_type": "execute_result"
    }
   ],
   "source": [
    "主持人1 = 主持人()\n",
    "主持人1.我猜(1), 主持人1.我猜(2), 主持人1.我猜(3)"
   ]
  },
  {
   "cell_type": "markdown",
   "metadata": {},
   "source": [
    "主持人确实变得更友好了, 就是玩家还有点傻, 这个我们下节课再优化玩家\n",
    "\n",
    "玩家如果猜对了答案主持人1就结束, 我们来修改一下让主持人能够结束游戏"
   ]
  },
  {
   "cell_type": "code",
   "execution_count": 3,
   "metadata": {},
   "outputs": [],
   "source": [
    "import random\n",
    "\n",
    "class 主持人():\n",
    "    def __init__(self):\n",
    "        print('游戏开始')\n",
    "        self.答案 = random.randint(1, 3)\n",
    "        self.已结束 = False\n",
    "        print('答案已经确定, 你可以开始猜了')\n",
    "    \n",
    "    def 我猜(self, 数字):\n",
    "        if self.已结束:\n",
    "            return '游戏已经结束'\n",
    "        if 数字 > self.答案:\n",
    "            return '太大了'\n",
    "        if 数字 < self.答案:\n",
    "            return '太小了'\n",
    "        print(f'恭喜玩家猜对了正确答案: {self.答案}')\n",
    "        self.已结束 = True\n",
    "        return '答对了'"
   ]
  },
  {
   "cell_type": "markdown",
   "metadata": {},
   "source": [
    "修改好了, 我们测试一下"
   ]
  },
  {
   "cell_type": "code",
   "execution_count": 4,
   "metadata": {},
   "outputs": [
    {
     "name": "stdout",
     "output_type": "stream",
     "text": [
      "游戏开始\n",
      "答案已经确定, 你可以开始猜了\n",
      "恭喜玩家猜对了正确答案: 2\n"
     ]
    },
    {
     "data": {
      "text/plain": [
       "('太小了', '答对了', '游戏已经结束', '游戏已经结束')"
      ]
     },
     "execution_count": 4,
     "metadata": {},
     "output_type": "execute_result"
    }
   ],
   "source": [
    "主持人1 = 主持人()\n",
    "主持人1.我猜(1), 主持人1.我猜(2), 主持人1.我猜(3), 主持人1.我猜(4)"
   ]
  },
  {
   "cell_type": "markdown",
   "metadata": {},
   "source": [
    "可以看到当答对了之后继续猜测的话, 主持人就会告诉玩家, 游戏已经结束了\n",
    "\n",
    "猜测1~3的猜数游戏太简单了, 我们能不能让主持人主持一个猜任意数字范围的游戏呢?"
   ]
  },
  {
   "cell_type": "code",
   "execution_count": 5,
   "metadata": {},
   "outputs": [
    {
     "name": "stdout",
     "output_type": "stream",
     "text": [
      "游戏开始\n",
      "答案已经确定, 你可以开始猜了\n",
      "我猜: 2, 结果: 太小了\n",
      "我猜: 3, 结果: 太小了\n",
      "我猜: 4, 结果: 太小了\n",
      "我猜: 5, 结果: 太小了\n",
      "我猜: 6, 结果: 太小了\n",
      "我猜: 7, 结果: 太小了\n",
      "我猜: 8, 结果: 太小了\n",
      "我猜: 9, 结果: 太小了\n",
      "我猜: 10, 结果: 太小了\n",
      "我猜: 11, 结果: 太小了\n"
     ]
    }
   ],
   "source": [
    "import random\n",
    "\n",
    "class 主持人():\n",
    "    def __init__(self, 最小, 最大):  \n",
    "        print('游戏开始')\n",
    "        self.答案 = random.randint(最小, 最大)\n",
    "        self.已结束 = False\n",
    "        print('答案已经确定, 你可以开始猜了')\n",
    "    \n",
    "    def 我猜(self, 数字):\n",
    "        if self.已结束:\n",
    "            return '游戏已经结束'\n",
    "        if 数字 > self.答案:\n",
    "            return '太大了'\n",
    "        if 数字 < self.答案:\n",
    "            return '太小了'\n",
    "        print(f'恭喜玩家猜对了正确答案: {self.答案}')\n",
    "        self.已结束 = True\n",
    "        return '答对了'\n",
    "    \n",
    "\n",
    "主持人1 = 主持人(20, 25)\n",
    "for i in range(2, 12):\n",
    "    结果 = 主持人1.我猜(i)\n",
    "    print(f'我猜: {i}, 结果: {结果}')"
   ]
  },
  {
   "cell_type": "markdown",
   "metadata": {},
   "source": [
    "我们成功地让主持人主持了猜测20~25的猜数游戏, 并让玩家对每个答案进行了猜测\n",
    "\n",
    "猜测20~25的猜数游戏, 只要6次猜测玩家必然能猜中答案, 结果玩家猜了10次\n",
    "\n",
    "### 练习: 请修改`主持人`类, 让玩家猜测次数超过合理限制后, 结束游戏"
   ]
  },
  {
   "cell_type": "code",
   "execution_count": null,
   "metadata": {},
   "outputs": [],
   "source": []
  }
 ],
 "metadata": {
  "kernelspec": {
   "display_name": "Python 3",
   "language": "python",
   "name": "python3"
  },
  "language_info": {
   "codemirror_mode": {
    "name": "ipython",
    "version": 3
   },
   "file_extension": ".py",
   "mimetype": "text/x-python",
   "name": "python",
   "nbconvert_exporter": "python",
   "pygments_lexer": "ipython3",
   "version": "3.8.6"
  }
 },
 "nbformat": 4,
 "nbformat_minor": 4
}

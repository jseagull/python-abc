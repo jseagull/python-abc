{
 "cells": [
  {
   "cell_type": "markdown",
   "metadata": {},
   "source": [
    "# 变量与函数\n",
    "\n",
    "数学中我们会遇到很多公式, 部分计算起来很复杂, 而计算机正式擅长计算, 那么如何将数据公式转换为程序呢?"
   ]
  },
  {
   "cell_type": "markdown",
   "metadata": {},
   "source": [
    "圆形的面积公式\n",
    "\n",
    "$S = \\pi r^{2}$\n",
    "\n",
    "周长公式\n",
    "\n",
    "$C = 2 \\pi r$\n",
    "\n",
    "下面给出了圆的面积的程序定义, 计算了半径为1的圆的面积"
   ]
  },
  {
   "cell_type": "code",
   "execution_count": 1,
   "metadata": {},
   "outputs": [
    {
     "data": {
      "text/plain": [
       "3.14"
      ]
     },
     "execution_count": 1,
     "metadata": {},
     "output_type": "execute_result"
    }
   ],
   "source": [
    "# 符号 # 后面的都是注释, 程序不会理会, 是专门给人看的\n",
    "# 函数定义\n",
    "def S(r):  # S函数名(公式的等号左边), r函数的参数(公式中的变量)\n",
    "    return 3.14 * r**2  # 公式等号右边\n",
    "\n",
    "# 函数调用(使用公式)\n",
    "S(1)  "
   ]
  },
  {
   "cell_type": "markdown",
   "metadata": {},
   "source": [
    "合适的名称和注释可以帮助其他人理解函数的意义和用法\n",
    "\n",
    "help函数可以帮助我们了解如何使用一个函数\n",
    "\n",
    "仔细看help函数的结果, 是否提示了 函数名, 函数参数, 函数注释"
   ]
  },
  {
   "cell_type": "code",
   "execution_count": 2,
   "metadata": {},
   "outputs": [
    {
     "name": "stdout",
     "output_type": "stream",
     "text": [
      "Help on function S in module __main__:\n",
      "\n",
      "S(r)\n",
      "    # 符号 # 后面的都是注释, 程序不会理会, 是专门给人看的\n",
      "    # 函数定义\n",
      "\n",
      "Help on function 面积 in module __main__:\n",
      "\n",
      "面积(半径)\n",
      "    给出半径返回圆形的面积\n",
      "\n"
     ]
    },
    {
     "data": {
      "text/plain": [
       "(None, None)"
      ]
     },
     "execution_count": 2,
     "metadata": {},
     "output_type": "execute_result"
    }
   ],
   "source": [
    "def 面积(半径):  # 面积 函数名(公式的等号左边), 半径 函数的参数(公式中的变量)\n",
    "    \"\"\"给出半径返回圆形的面积\"\"\"\n",
    "    return 3.14 * 半径 ** 2  # 公式等好右边\n",
    "\n",
    "help(S), help(面积)  # 调用help函数两次"
   ]
  },
  {
   "cell_type": "markdown",
   "metadata": {},
   "source": [
    "公式虽然是半径算圆的面积, 但是实际中未必会给你半径, 如果给的是直径, 如何算圆的面积, 以下两种写法都是正确的\n",
    "\n",
    "都是正确的情况下思考一下哪种更好, 一般程序更好的标准有\n",
    "\n",
    "* 更短\n",
    "* 更好理解\n",
    "* 更容易复用"
   ]
  },
  {
   "cell_type": "code",
   "execution_count": 3,
   "metadata": {},
   "outputs": [
    {
     "data": {
      "text/plain": [
       "(0.785, 3.14)"
      ]
     },
     "execution_count": 3,
     "metadata": {},
     "output_type": "execute_result"
    }
   ],
   "source": [
    "def 直径算圆面积(直径):\n",
    "    半径 = 直径 / 2\n",
    "    return 面积(半径)\n",
    "\n",
    "直径算圆面积(1), 直径算圆面积(2)"
   ]
  },
  {
   "cell_type": "code",
   "execution_count": 4,
   "metadata": {},
   "outputs": [
    {
     "data": {
      "text/plain": [
       "(0.785, 3.14)"
      ]
     },
     "execution_count": 4,
     "metadata": {},
     "output_type": "execute_result"
    }
   ],
   "source": [
    "def 直径算圆面积(直径):\n",
    "    return 面积(直径/2)\n",
    "\n",
    "直径算圆面积(1), 直径算圆面积(2)"
   ]
  },
  {
   "cell_type": "markdown",
   "metadata": {},
   "source": [
    "### 练习：计算周长分别为 2, 4, 6 的圆的面积"
   ]
  },
  {
   "cell_type": "code",
   "execution_count": null,
   "metadata": {},
   "outputs": [],
   "source": []
  }
 ],
 "metadata": {
  "kernelspec": {
   "display_name": "Python 3",
   "language": "python",
   "name": "python3"
  },
  "language_info": {
   "codemirror_mode": {
    "name": "ipython",
    "version": 3
   },
   "file_extension": ".py",
   "mimetype": "text/x-python",
   "name": "python",
   "nbconvert_exporter": "python",
   "pygments_lexer": "ipython3",
   "version": "3.6.9"
  }
 },
 "nbformat": 4,
 "nbformat_minor": 4
}
